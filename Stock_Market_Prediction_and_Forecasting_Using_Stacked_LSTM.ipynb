{
  "cells": [
    {
      "cell_type": "markdown",
      "source": [
        ""
      ],
      "metadata": {
        "id": "x0O9OOXHj6TV"
      }
    },
    {
      "cell_type": "code",
      "source": [
        "!pip install --upgrade pandas-datareader==0.10.0"
      ],
      "metadata": {
        "id": "fe7aOI9ULuSr",
        "colab": {
          "base_uri": "https://localhost:8080/"
        },
        "outputId": "21bcfd54-9915-4a7f-9694-12395acf8998"
      },
      "execution_count": 59,
      "outputs": [
        {
          "output_type": "stream",
          "name": "stdout",
          "text": [
            "Requirement already satisfied: pandas-datareader==0.10.0 in /usr/local/lib/python3.7/dist-packages (0.10.0)\n",
            "Requirement already satisfied: pandas>=0.23 in /usr/local/lib/python3.7/dist-packages (from pandas-datareader==0.10.0) (1.3.5)\n",
            "Requirement already satisfied: requests>=2.19.0 in /usr/local/lib/python3.7/dist-packages (from pandas-datareader==0.10.0) (2.23.0)\n",
            "Requirement already satisfied: lxml in /usr/local/lib/python3.7/dist-packages (from pandas-datareader==0.10.0) (4.2.6)\n",
            "Requirement already satisfied: python-dateutil>=2.7.3 in /usr/local/lib/python3.7/dist-packages (from pandas>=0.23->pandas-datareader==0.10.0) (2.8.2)\n",
            "Requirement already satisfied: pytz>=2017.3 in /usr/local/lib/python3.7/dist-packages (from pandas>=0.23->pandas-datareader==0.10.0) (2022.1)\n",
            "Requirement already satisfied: numpy>=1.17.3 in /usr/local/lib/python3.7/dist-packages (from pandas>=0.23->pandas-datareader==0.10.0) (1.21.6)\n",
            "Requirement already satisfied: six>=1.5 in /usr/local/lib/python3.7/dist-packages (from python-dateutil>=2.7.3->pandas>=0.23->pandas-datareader==0.10.0) (1.15.0)\n",
            "Requirement already satisfied: urllib3!=1.25.0,!=1.25.1,<1.26,>=1.21.1 in /usr/local/lib/python3.7/dist-packages (from requests>=2.19.0->pandas-datareader==0.10.0) (1.24.3)\n",
            "Requirement already satisfied: certifi>=2017.4.17 in /usr/local/lib/python3.7/dist-packages (from requests>=2.19.0->pandas-datareader==0.10.0) (2021.10.8)\n",
            "Requirement already satisfied: chardet<4,>=3.0.2 in /usr/local/lib/python3.7/dist-packages (from requests>=2.19.0->pandas-datareader==0.10.0) (3.0.4)\n",
            "Requirement already satisfied: idna<3,>=2.5 in /usr/local/lib/python3.7/dist-packages (from requests>=2.19.0->pandas-datareader==0.10.0) (2.10)\n"
          ]
        }
      ]
    },
    {
      "cell_type": "code",
      "execution_count": 101,
      "metadata": {
        "id": "4JfTnRpSj1tY"
      },
      "outputs": [],
      "source": [
        "#Import necessary Libraries\n",
        "import pandas as pd\n",
        "import numpy as np\n",
        "import math\n",
        "import matplotlib.pyplot as plt\n",
        "import pandas_datareader as data\n",
        "from sklearn.preprocessing import MinMaxScaler\n",
        "from sklearn.metrics import mean_squared_error\n",
        "import tensorflow as tf\n",
        "from tensorflow.python.keras.models import Sequential\n",
        "from tensorflow.python.keras.layers import Dense\n",
        "from tensorflow.python.keras.layers import LSTM\n",
        "%matplotlib inline"
      ]
    },
    {
      "cell_type": "code",
      "execution_count": 102,
      "metadata": {
        "id": "Cqc9UbO2j1tZ",
        "colab": {
          "base_uri": "https://localhost:8080/",
          "height": 238
        },
        "outputId": "34c7c925-68e6-4c92-b5ba-a267317067e0"
      },
      "outputs": [
        {
          "output_type": "execute_result",
          "data": {
            "text/plain": [
              "                 High        Low       Open      Close       Volume  Adj Close\n",
              "Date                                                                          \n",
              "2015-05-27  33.064999  32.512501  32.584999  33.009998  183332800.0  30.091169\n",
              "2015-05-28  32.987499  32.775002  32.965000  32.945000  122933200.0  30.031916\n",
              "2015-05-29  32.862499  32.474998  32.807499  32.570000  203538000.0  29.690077\n",
              "2015-06-01  32.847500  32.512501  32.570000  32.634998  128451200.0  29.749321\n",
              "2015-06-02  32.665001  32.330002  32.465000  32.490002  134670400.0  29.617153"
            ],
            "text/html": [
              "\n",
              "  <div id=\"df-13f572af-f2e2-4adf-a30d-3e9ec39c27b7\">\n",
              "    <div class=\"colab-df-container\">\n",
              "      <div>\n",
              "<style scoped>\n",
              "    .dataframe tbody tr th:only-of-type {\n",
              "        vertical-align: middle;\n",
              "    }\n",
              "\n",
              "    .dataframe tbody tr th {\n",
              "        vertical-align: top;\n",
              "    }\n",
              "\n",
              "    .dataframe thead th {\n",
              "        text-align: right;\n",
              "    }\n",
              "</style>\n",
              "<table border=\"1\" class=\"dataframe\">\n",
              "  <thead>\n",
              "    <tr style=\"text-align: right;\">\n",
              "      <th></th>\n",
              "      <th>High</th>\n",
              "      <th>Low</th>\n",
              "      <th>Open</th>\n",
              "      <th>Close</th>\n",
              "      <th>Volume</th>\n",
              "      <th>Adj Close</th>\n",
              "    </tr>\n",
              "    <tr>\n",
              "      <th>Date</th>\n",
              "      <th></th>\n",
              "      <th></th>\n",
              "      <th></th>\n",
              "      <th></th>\n",
              "      <th></th>\n",
              "      <th></th>\n",
              "    </tr>\n",
              "  </thead>\n",
              "  <tbody>\n",
              "    <tr>\n",
              "      <th>2015-05-27</th>\n",
              "      <td>33.064999</td>\n",
              "      <td>32.512501</td>\n",
              "      <td>32.584999</td>\n",
              "      <td>33.009998</td>\n",
              "      <td>183332800.0</td>\n",
              "      <td>30.091169</td>\n",
              "    </tr>\n",
              "    <tr>\n",
              "      <th>2015-05-28</th>\n",
              "      <td>32.987499</td>\n",
              "      <td>32.775002</td>\n",
              "      <td>32.965000</td>\n",
              "      <td>32.945000</td>\n",
              "      <td>122933200.0</td>\n",
              "      <td>30.031916</td>\n",
              "    </tr>\n",
              "    <tr>\n",
              "      <th>2015-05-29</th>\n",
              "      <td>32.862499</td>\n",
              "      <td>32.474998</td>\n",
              "      <td>32.807499</td>\n",
              "      <td>32.570000</td>\n",
              "      <td>203538000.0</td>\n",
              "      <td>29.690077</td>\n",
              "    </tr>\n",
              "    <tr>\n",
              "      <th>2015-06-01</th>\n",
              "      <td>32.847500</td>\n",
              "      <td>32.512501</td>\n",
              "      <td>32.570000</td>\n",
              "      <td>32.634998</td>\n",
              "      <td>128451200.0</td>\n",
              "      <td>29.749321</td>\n",
              "    </tr>\n",
              "    <tr>\n",
              "      <th>2015-06-02</th>\n",
              "      <td>32.665001</td>\n",
              "      <td>32.330002</td>\n",
              "      <td>32.465000</td>\n",
              "      <td>32.490002</td>\n",
              "      <td>134670400.0</td>\n",
              "      <td>29.617153</td>\n",
              "    </tr>\n",
              "  </tbody>\n",
              "</table>\n",
              "</div>\n",
              "      <button class=\"colab-df-convert\" onclick=\"convertToInteractive('df-13f572af-f2e2-4adf-a30d-3e9ec39c27b7')\"\n",
              "              title=\"Convert this dataframe to an interactive table.\"\n",
              "              style=\"display:none;\">\n",
              "        \n",
              "  <svg xmlns=\"http://www.w3.org/2000/svg\" height=\"24px\"viewBox=\"0 0 24 24\"\n",
              "       width=\"24px\">\n",
              "    <path d=\"M0 0h24v24H0V0z\" fill=\"none\"/>\n",
              "    <path d=\"M18.56 5.44l.94 2.06.94-2.06 2.06-.94-2.06-.94-.94-2.06-.94 2.06-2.06.94zm-11 1L8.5 8.5l.94-2.06 2.06-.94-2.06-.94L8.5 2.5l-.94 2.06-2.06.94zm10 10l.94 2.06.94-2.06 2.06-.94-2.06-.94-.94-2.06-.94 2.06-2.06.94z\"/><path d=\"M17.41 7.96l-1.37-1.37c-.4-.4-.92-.59-1.43-.59-.52 0-1.04.2-1.43.59L10.3 9.45l-7.72 7.72c-.78.78-.78 2.05 0 2.83L4 21.41c.39.39.9.59 1.41.59.51 0 1.02-.2 1.41-.59l7.78-7.78 2.81-2.81c.8-.78.8-2.07 0-2.86zM5.41 20L4 18.59l7.72-7.72 1.47 1.35L5.41 20z\"/>\n",
              "  </svg>\n",
              "      </button>\n",
              "      \n",
              "  <style>\n",
              "    .colab-df-container {\n",
              "      display:flex;\n",
              "      flex-wrap:wrap;\n",
              "      gap: 12px;\n",
              "    }\n",
              "\n",
              "    .colab-df-convert {\n",
              "      background-color: #E8F0FE;\n",
              "      border: none;\n",
              "      border-radius: 50%;\n",
              "      cursor: pointer;\n",
              "      display: none;\n",
              "      fill: #1967D2;\n",
              "      height: 32px;\n",
              "      padding: 0 0 0 0;\n",
              "      width: 32px;\n",
              "    }\n",
              "\n",
              "    .colab-df-convert:hover {\n",
              "      background-color: #E2EBFA;\n",
              "      box-shadow: 0px 1px 2px rgba(60, 64, 67, 0.3), 0px 1px 3px 1px rgba(60, 64, 67, 0.15);\n",
              "      fill: #174EA6;\n",
              "    }\n",
              "\n",
              "    [theme=dark] .colab-df-convert {\n",
              "      background-color: #3B4455;\n",
              "      fill: #D2E3FC;\n",
              "    }\n",
              "\n",
              "    [theme=dark] .colab-df-convert:hover {\n",
              "      background-color: #434B5C;\n",
              "      box-shadow: 0px 1px 3px 1px rgba(0, 0, 0, 0.15);\n",
              "      filter: drop-shadow(0px 1px 2px rgba(0, 0, 0, 0.3));\n",
              "      fill: #FFFFFF;\n",
              "    }\n",
              "  </style>\n",
              "\n",
              "      <script>\n",
              "        const buttonEl =\n",
              "          document.querySelector('#df-13f572af-f2e2-4adf-a30d-3e9ec39c27b7 button.colab-df-convert');\n",
              "        buttonEl.style.display =\n",
              "          google.colab.kernel.accessAllowed ? 'block' : 'none';\n",
              "\n",
              "        async function convertToInteractive(key) {\n",
              "          const element = document.querySelector('#df-13f572af-f2e2-4adf-a30d-3e9ec39c27b7');\n",
              "          const dataTable =\n",
              "            await google.colab.kernel.invokeFunction('convertToInteractive',\n",
              "                                                     [key], {});\n",
              "          if (!dataTable) return;\n",
              "\n",
              "          const docLinkHtml = 'Like what you see? Visit the ' +\n",
              "            '<a target=\"_blank\" href=https://colab.research.google.com/notebooks/data_table.ipynb>data table notebook</a>'\n",
              "            + ' to learn more about interactive tables.';\n",
              "          element.innerHTML = '';\n",
              "          dataTable['output_type'] = 'display_data';\n",
              "          await google.colab.output.renderOutput(dataTable, element);\n",
              "          const docLink = document.createElement('div');\n",
              "          docLink.innerHTML = docLinkHtml;\n",
              "          element.appendChild(docLink);\n",
              "        }\n",
              "      </script>\n",
              "    </div>\n",
              "  </div>\n",
              "  "
            ]
          },
          "metadata": {},
          "execution_count": 102
        }
      ],
      "source": [
        "start = '2015-05-27'\n",
        "end = '2020-05-22'\n",
        "#start = '2015-06-08'\n",
        "#end = '2020-06-05'\n",
        "# Reliance_Stock\n",
        "df = data.DataReader('AAPL', 'yahoo', start ,end)\n",
        "df = df.dropna()\n",
        "df.head()"
      ]
    },
    {
      "cell_type": "code",
      "execution_count": 62,
      "metadata": {
        "id": "N7VwvDKIj1ta",
        "colab": {
          "base_uri": "https://localhost:8080/",
          "height": 238
        },
        "outputId": "de9e160b-aeda-4328-917b-89287fc4b84f"
      },
      "outputs": [
        {
          "output_type": "execute_result",
          "data": {
            "text/plain": [
              "                 High        Low       Open      Close       Volume  Adj Close\n",
              "Date                                                                          \n",
              "2020-05-18  79.125000  77.580002  78.292503  78.739998  135178400.0  77.882950\n",
              "2020-05-19  79.629997  78.252502  78.757500  78.285004  101729600.0  77.432899\n",
              "2020-05-20  79.879997  79.129997  79.169998  79.807503  111504800.0  78.938828\n",
              "2020-05-21  80.222504  78.967499  79.665001  79.212502  102688800.0  78.350304\n",
              "2020-05-22  79.807503  78.837502  78.942497  79.722504   81803200.0  78.854759"
            ],
            "text/html": [
              "\n",
              "  <div id=\"df-ef7198b0-1060-4816-b315-29003a6a8634\">\n",
              "    <div class=\"colab-df-container\">\n",
              "      <div>\n",
              "<style scoped>\n",
              "    .dataframe tbody tr th:only-of-type {\n",
              "        vertical-align: middle;\n",
              "    }\n",
              "\n",
              "    .dataframe tbody tr th {\n",
              "        vertical-align: top;\n",
              "    }\n",
              "\n",
              "    .dataframe thead th {\n",
              "        text-align: right;\n",
              "    }\n",
              "</style>\n",
              "<table border=\"1\" class=\"dataframe\">\n",
              "  <thead>\n",
              "    <tr style=\"text-align: right;\">\n",
              "      <th></th>\n",
              "      <th>High</th>\n",
              "      <th>Low</th>\n",
              "      <th>Open</th>\n",
              "      <th>Close</th>\n",
              "      <th>Volume</th>\n",
              "      <th>Adj Close</th>\n",
              "    </tr>\n",
              "    <tr>\n",
              "      <th>Date</th>\n",
              "      <th></th>\n",
              "      <th></th>\n",
              "      <th></th>\n",
              "      <th></th>\n",
              "      <th></th>\n",
              "      <th></th>\n",
              "    </tr>\n",
              "  </thead>\n",
              "  <tbody>\n",
              "    <tr>\n",
              "      <th>2020-05-18</th>\n",
              "      <td>79.125000</td>\n",
              "      <td>77.580002</td>\n",
              "      <td>78.292503</td>\n",
              "      <td>78.739998</td>\n",
              "      <td>135178400.0</td>\n",
              "      <td>77.882950</td>\n",
              "    </tr>\n",
              "    <tr>\n",
              "      <th>2020-05-19</th>\n",
              "      <td>79.629997</td>\n",
              "      <td>78.252502</td>\n",
              "      <td>78.757500</td>\n",
              "      <td>78.285004</td>\n",
              "      <td>101729600.0</td>\n",
              "      <td>77.432899</td>\n",
              "    </tr>\n",
              "    <tr>\n",
              "      <th>2020-05-20</th>\n",
              "      <td>79.879997</td>\n",
              "      <td>79.129997</td>\n",
              "      <td>79.169998</td>\n",
              "      <td>79.807503</td>\n",
              "      <td>111504800.0</td>\n",
              "      <td>78.938828</td>\n",
              "    </tr>\n",
              "    <tr>\n",
              "      <th>2020-05-21</th>\n",
              "      <td>80.222504</td>\n",
              "      <td>78.967499</td>\n",
              "      <td>79.665001</td>\n",
              "      <td>79.212502</td>\n",
              "      <td>102688800.0</td>\n",
              "      <td>78.350304</td>\n",
              "    </tr>\n",
              "    <tr>\n",
              "      <th>2020-05-22</th>\n",
              "      <td>79.807503</td>\n",
              "      <td>78.837502</td>\n",
              "      <td>78.942497</td>\n",
              "      <td>79.722504</td>\n",
              "      <td>81803200.0</td>\n",
              "      <td>78.854759</td>\n",
              "    </tr>\n",
              "  </tbody>\n",
              "</table>\n",
              "</div>\n",
              "      <button class=\"colab-df-convert\" onclick=\"convertToInteractive('df-ef7198b0-1060-4816-b315-29003a6a8634')\"\n",
              "              title=\"Convert this dataframe to an interactive table.\"\n",
              "              style=\"display:none;\">\n",
              "        \n",
              "  <svg xmlns=\"http://www.w3.org/2000/svg\" height=\"24px\"viewBox=\"0 0 24 24\"\n",
              "       width=\"24px\">\n",
              "    <path d=\"M0 0h24v24H0V0z\" fill=\"none\"/>\n",
              "    <path d=\"M18.56 5.44l.94 2.06.94-2.06 2.06-.94-2.06-.94-.94-2.06-.94 2.06-2.06.94zm-11 1L8.5 8.5l.94-2.06 2.06-.94-2.06-.94L8.5 2.5l-.94 2.06-2.06.94zm10 10l.94 2.06.94-2.06 2.06-.94-2.06-.94-.94-2.06-.94 2.06-2.06.94z\"/><path d=\"M17.41 7.96l-1.37-1.37c-.4-.4-.92-.59-1.43-.59-.52 0-1.04.2-1.43.59L10.3 9.45l-7.72 7.72c-.78.78-.78 2.05 0 2.83L4 21.41c.39.39.9.59 1.41.59.51 0 1.02-.2 1.41-.59l7.78-7.78 2.81-2.81c.8-.78.8-2.07 0-2.86zM5.41 20L4 18.59l7.72-7.72 1.47 1.35L5.41 20z\"/>\n",
              "  </svg>\n",
              "      </button>\n",
              "      \n",
              "  <style>\n",
              "    .colab-df-container {\n",
              "      display:flex;\n",
              "      flex-wrap:wrap;\n",
              "      gap: 12px;\n",
              "    }\n",
              "\n",
              "    .colab-df-convert {\n",
              "      background-color: #E8F0FE;\n",
              "      border: none;\n",
              "      border-radius: 50%;\n",
              "      cursor: pointer;\n",
              "      display: none;\n",
              "      fill: #1967D2;\n",
              "      height: 32px;\n",
              "      padding: 0 0 0 0;\n",
              "      width: 32px;\n",
              "    }\n",
              "\n",
              "    .colab-df-convert:hover {\n",
              "      background-color: #E2EBFA;\n",
              "      box-shadow: 0px 1px 2px rgba(60, 64, 67, 0.3), 0px 1px 3px 1px rgba(60, 64, 67, 0.15);\n",
              "      fill: #174EA6;\n",
              "    }\n",
              "\n",
              "    [theme=dark] .colab-df-convert {\n",
              "      background-color: #3B4455;\n",
              "      fill: #D2E3FC;\n",
              "    }\n",
              "\n",
              "    [theme=dark] .colab-df-convert:hover {\n",
              "      background-color: #434B5C;\n",
              "      box-shadow: 0px 1px 3px 1px rgba(0, 0, 0, 0.15);\n",
              "      filter: drop-shadow(0px 1px 2px rgba(0, 0, 0, 0.3));\n",
              "      fill: #FFFFFF;\n",
              "    }\n",
              "  </style>\n",
              "\n",
              "      <script>\n",
              "        const buttonEl =\n",
              "          document.querySelector('#df-ef7198b0-1060-4816-b315-29003a6a8634 button.colab-df-convert');\n",
              "        buttonEl.style.display =\n",
              "          google.colab.kernel.accessAllowed ? 'block' : 'none';\n",
              "\n",
              "        async function convertToInteractive(key) {\n",
              "          const element = document.querySelector('#df-ef7198b0-1060-4816-b315-29003a6a8634');\n",
              "          const dataTable =\n",
              "            await google.colab.kernel.invokeFunction('convertToInteractive',\n",
              "                                                     [key], {});\n",
              "          if (!dataTable) return;\n",
              "\n",
              "          const docLinkHtml = 'Like what you see? Visit the ' +\n",
              "            '<a target=\"_blank\" href=https://colab.research.google.com/notebooks/data_table.ipynb>data table notebook</a>'\n",
              "            + ' to learn more about interactive tables.';\n",
              "          element.innerHTML = '';\n",
              "          dataTable['output_type'] = 'display_data';\n",
              "          await google.colab.output.renderOutput(dataTable, element);\n",
              "          const docLink = document.createElement('div');\n",
              "          docLink.innerHTML = docLinkHtml;\n",
              "          element.appendChild(docLink);\n",
              "        }\n",
              "      </script>\n",
              "    </div>\n",
              "  </div>\n",
              "  "
            ]
          },
          "metadata": {},
          "execution_count": 62
        }
      ],
      "source": [
        "df.tail()"
      ]
    },
    {
      "cell_type": "code",
      "execution_count": 63,
      "metadata": {
        "id": "Y908HyXDj1ta"
      },
      "outputs": [],
      "source": [
        "df_close = df['Close']"
      ]
    },
    {
      "cell_type": "code",
      "execution_count": 64,
      "metadata": {
        "id": "hK5OG9AUj1tb",
        "colab": {
          "base_uri": "https://localhost:8080/"
        },
        "outputId": "b481a4b0-ea06-4d60-8ac6-d1fb83636c2c"
      },
      "outputs": [
        {
          "output_type": "execute_result",
          "data": {
            "text/plain": [
              "(1258,)"
            ]
          },
          "metadata": {},
          "execution_count": 64
        }
      ],
      "source": [
        "df_close.shape"
      ]
    },
    {
      "cell_type": "code",
      "execution_count": 65,
      "metadata": {
        "id": "oBn6BCNtj1tb",
        "colab": {
          "base_uri": "https://localhost:8080/",
          "height": 282
        },
        "outputId": "d28765c7-a9a5-4e38-8fd7-71e9a9a388b3"
      },
      "outputs": [
        {
          "output_type": "execute_result",
          "data": {
            "text/plain": [
              "[<matplotlib.lines.Line2D at 0x7f6375849c90>]"
            ]
          },
          "metadata": {},
          "execution_count": 65
        },
        {
          "output_type": "display_data",
          "data": {
            "text/plain": [
              "<Figure size 432x288 with 1 Axes>"
            ],
            "image/png": "[encoded data removed]"
          },
          "metadata": {
            "needs_background": "light"
          }
        }
      ],
      "source": [
        "plt.plot(df_close)"
      ]
    },
    {
      "cell_type": "code",
      "source": [
        "df_close"
      ],
      "metadata": {
        "id": "Eo-dVmxwtYnx",
        "colab": {
          "base_uri": "https://localhost:8080/"
        },
        "outputId": "f9ca0dae-1b04-4515-8538-17c0cde0844d"
      },
      "execution_count": 66,
      "outputs": [
        {
          "output_type": "execute_result",
          "data": {
            "text/plain": [
              "Date\n",
              "2015-05-27    33.009998\n",
              "2015-05-28    32.945000\n",
              "2015-05-29    32.570000\n",
              "2015-06-01    32.634998\n",
              "2015-06-02    32.490002\n",
              "                ...    \n",
              "2020-05-18    78.739998\n",
              "2020-05-19    78.285004\n",
              "2020-05-20    79.807503\n",
              "2020-05-21    79.212502\n",
              "2020-05-22    79.722504\n",
              "Name: Close, Length: 1258, dtype: float64"
            ]
          },
          "metadata": {},
          "execution_count": 66
        }
      ]
    },
    {
      "cell_type": "markdown",
      "metadata": {
        "id": "vnTrYkXOj1tc"
      },
      "source": [
        "Since LSTM are sensitive to the scale of the data, so we apply MinMax Scaler to transform our values between 0 and 1"
      ]
    },
    {
      "cell_type": "code",
      "execution_count": 67,
      "metadata": {
        "id": "yP8VpHJ3j1tc"
      },
      "outputs": [],
      "source": [
        "scaler = MinMaxScaler(feature_range = (0,1))\n",
        "df_close = scaler.fit_transform(np.array(df_close).reshape(-1,1))"
      ]
    },
    {
      "cell_type": "code",
      "execution_count": 68,
      "metadata": {
        "id": "19MDp0WLj1td",
        "colab": {
          "base_uri": "https://localhost:8080/"
        },
        "outputId": "3927db97-62aa-4283-bd6b-2d2a56316d95"
      },
      "outputs": [
        {
          "output_type": "execute_result",
          "data": {
            "text/plain": [
              "(1258, 1)"
            ]
          },
          "metadata": {},
          "execution_count": 68
        }
      ],
      "source": [
        "df_close.shape"
      ]
    },
    {
      "cell_type": "code",
      "execution_count": 69,
      "metadata": {
        "id": "dqcOpFhaj1td",
        "colab": {
          "base_uri": "https://localhost:8080/"
        },
        "outputId": "3e0ddcd5-ed8f-4ce7-a73f-3aa6dca46872"
      },
      "outputs": [
        {
          "output_type": "execute_result",
          "data": {
            "text/plain": [
              "array([[0.17605334],\n",
              "       [0.17495567],\n",
              "       [0.16862281],\n",
              "       ...,\n",
              "       [0.96635143],\n",
              "       [0.95630328],\n",
              "       [0.964916  ]])"
            ]
          },
          "metadata": {},
          "execution_count": 69
        }
      ],
      "source": [
        "df_close"
      ]
    },
    {
      "cell_type": "code",
      "execution_count": 70,
      "metadata": {
        "id": "KR9EDp_Pj1te"
      },
      "outputs": [],
      "source": [
        "#Split the data into train and test split\n",
        "# 75% is for training data and 25% data is for testing\n",
        "training_size = int(len(df_close) * 0.60)\n",
        "test_size = len(df_close) - training_size\n",
        "train_data, test_data = df_close[0:training_size,:], df_close[training_size:len(df_close),:1]"
      ]
    },
    {
      "cell_type": "code",
      "source": [
        "len(train_data), len(test_data)"
      ],
      "metadata": {
        "id": "ISzwLsVGvG9o",
        "colab": {
          "base_uri": "https://localhost:8080/"
        },
        "outputId": "01bc55e8-16c5-453a-a804-3ffc22fe8d7a"
      },
      "execution_count": 71,
      "outputs": [
        {
          "output_type": "execute_result",
          "data": {
            "text/plain": [
              "(754, 504)"
            ]
          },
          "metadata": {},
          "execution_count": 71
        }
      ]
    },
    {
      "cell_type": "code",
      "execution_count": 72,
      "metadata": {
        "id": "2IWPQxT7j1te"
      },
      "outputs": [],
      "source": [
        "# convert an array of values into a dataset matrix\n",
        "def create_dataset(dataset, time_step = 1):\n",
        "    dataX, dataY = [], []\n",
        "    for i in range(len(dataset) - time_step - 1):\n",
        "        a = dataset[i:(i+time_step), 0]\n",
        "        dataX.append(a)\n",
        "        dataY.append(dataset[i+time_step, 0])\n",
        "    return np.array(dataX), np.array(dataY)"
      ]
    },
    {
      "cell_type": "code",
      "execution_count": 73,
      "metadata": {
        "id": "21bL1nQxj1te"
      },
      "outputs": [],
      "source": [
        "# divide our data into x_train and y_train\n",
        "# let take see at logic here \n",
        "# we have some closing stock price 34 36 33 40 39 38 37 42 44 38 ( these are 10 days data )\n",
        "# Now we have to predict the 11th day data\n",
        "# so the price on the particular day will be dependent on last few days \n",
        "# so 10 days are the x_train \n",
        "# so 11th day will become my y_train which to be predict\n",
        "# reshape into x = t, t+1 , t+2 , t+3 and Y = t+ 4\n",
        "time_step = 100\n",
        "x_train, y_train = create_dataset(train_data, time_step)\n",
        "x_test, y_test = create_dataset(test_data, time_step)"
      ]
    },
    {
      "cell_type": "code",
      "source": [
        "x_train.shape , y_train.shape\n"
      ],
      "metadata": {
        "id": "oQUnecLqw_pB",
        "colab": {
          "base_uri": "https://localhost:8080/"
        },
        "outputId": "b4b81f16-5e05-4251-cd59-ad091cda4545"
      },
      "execution_count": 74,
      "outputs": [
        {
          "output_type": "execute_result",
          "data": {
            "text/plain": [
              "((653, 100), (653,))"
            ]
          },
          "metadata": {},
          "execution_count": 74
        }
      ]
    },
    {
      "cell_type": "code",
      "source": [
        "x_test.shape , y_test.shape"
      ],
      "metadata": {
        "id": "HKi2E5Yax-yR",
        "colab": {
          "base_uri": "https://localhost:8080/"
        },
        "outputId": "daa13d52-3131-48d8-e3c5-f7c0833e8f02"
      },
      "execution_count": 75,
      "outputs": [
        {
          "output_type": "execute_result",
          "data": {
            "text/plain": [
              "((403, 100), (403,))"
            ]
          },
          "metadata": {},
          "execution_count": 75
        }
      ]
    },
    {
      "cell_type": "code",
      "execution_count": 76,
      "metadata": {
        "id": "19bdFFVoj1tf",
        "colab": {
          "base_uri": "https://localhost:8080/"
        },
        "outputId": "d9ff41a6-eeec-4ed0-a358-69410e117f73"
      },
      "outputs": [
        {
          "output_type": "execute_result",
          "data": {
            "text/plain": [
              "(653, 100, 1)"
            ]
          },
          "metadata": {},
          "execution_count": 76
        }
      ],
      "source": [
        "#Reshape the input to be [samples, time steps, features] which is the requirement of LSTM\n",
        "x_train = x_train.reshape(x_train.shape[0], x_train.shape[1], 1)\n",
        "x_test = x_test.reshape(x_test.shape[0], x_test.shape[1], 1)\n",
        "x_train.shape"
      ]
    },
    {
      "cell_type": "code",
      "execution_count": 77,
      "metadata": {
        "id": "oZqeEHtKj1tf"
      },
      "outputs": [],
      "source": [
        "#Create the LSTM Model\n",
        "# stack LSTM model\n",
        "model = Sequential()\n",
        "model.add(LSTM(50, return_sequences = True, input_shape = (100,1)))\n",
        "model.add(LSTM(50, return_sequences = True))\n",
        "model.add(LSTM(50))\n",
        "model.add(Dense(1))\n",
        "model.compile(loss = 'mean_squared_error', optimizer = 'adam')\n"
      ]
    },
    {
      "cell_type": "code",
      "execution_count": 78,
      "metadata": {
        "id": "nkZfWqG-j1tf",
        "colab": {
          "base_uri": "https://localhost:8080/"
        },
        "outputId": "31830fb4-31a8-4388-c484-cbd6ecc317a2"
      },
      "outputs": [
        {
          "output_type": "stream",
          "name": "stdout",
          "text": [
            "Model: \"sequential_1\"\n",
            "_________________________________________________________________\n",
            "Layer (type)                 Output Shape              Param #   \n",
            "=================================================================\n",
            "lstm_3 (LSTM)                (None, 100, 50)           10400     \n",
            "_________________________________________________________________\n",
            "lstm_4 (LSTM)                (None, 100, 50)           20200     \n",
            "_________________________________________________________________\n",
            "lstm_5 (LSTM)                (None, 50)                20200     \n",
            "_________________________________________________________________\n",
            "dense_1 (Dense)              (None, 1)                 51        \n",
            "=================================================================\n",
            "Total params: 50,851\n",
            "Trainable params: 50,851\n",
            "Non-trainable params: 0\n",
            "_________________________________________________________________\n"
          ]
        }
      ],
      "source": [
        "model.summary()"
      ]
    },
    {
      "cell_type": "code",
      "execution_count": 79,
      "metadata": {
        "id": "F00smdmHj1tf",
        "outputId": "eb44c3ee-b9a0-4476-c47f-258acf1d7b58",
        "colab": {
          "base_uri": "https://localhost:8080/"
        }
      },
      "outputs": [
        {
          "output_type": "stream",
          "name": "stdout",
          "text": [
            "Epoch 1/100\n",
            "11/11 [==============================] - 23s 1s/step - loss: 0.0182 - val_loss: 0.0264\n",
            "Epoch 2/100\n",
            "11/11 [==============================] - 10s 844ms/step - loss: 0.0041 - val_loss: 0.0184\n",
            "Epoch 3/100\n",
            "11/11 [==============================] - 9s 841ms/step - loss: 0.0013 - val_loss: 0.0054\n",
            "Epoch 4/100\n",
            "11/11 [==============================] - 9s 809ms/step - loss: 9.1477e-04 - val_loss: 0.0051\n",
            "Epoch 5/100\n",
            "11/11 [==============================] - 6s 496ms/step - loss: 7.2242e-04 - val_loss: 0.0054\n",
            "Epoch 6/100\n",
            "11/11 [==============================] - 4s 393ms/step - loss: 6.0775e-04 - val_loss: 0.0040\n",
            "Epoch 7/100\n",
            "11/11 [==============================] - 4s 391ms/step - loss: 5.9045e-04 - val_loss: 0.0040\n",
            "Epoch 8/100\n",
            "11/11 [==============================] - 4s 398ms/step - loss: 5.4380e-04 - val_loss: 0.0042\n",
            "Epoch 9/100\n",
            "11/11 [==============================] - 4s 391ms/step - loss: 5.4301e-04 - val_loss: 0.0039\n",
            "Epoch 10/100\n",
            "11/11 [==============================] - 4s 390ms/step - loss: 5.3059e-04 - val_loss: 0.0042\n",
            "Epoch 11/100\n",
            "11/11 [==============================] - 4s 393ms/step - loss: 5.1488e-04 - val_loss: 0.0040\n",
            "Epoch 12/100\n",
            "11/11 [==============================] - 4s 394ms/step - loss: 5.1501e-04 - val_loss: 0.0045\n",
            "Epoch 13/100\n",
            "11/11 [==============================] - 4s 392ms/step - loss: 5.2650e-04 - val_loss: 0.0043\n",
            "Epoch 14/100\n",
            "11/11 [==============================] - 4s 397ms/step - loss: 5.0299e-04 - val_loss: 0.0044\n",
            "Epoch 15/100\n",
            "11/11 [==============================] - 4s 395ms/step - loss: 4.9341e-04 - val_loss: 0.0041\n",
            "Epoch 16/100\n",
            "11/11 [==============================] - 4s 392ms/step - loss: 5.1386e-04 - val_loss: 0.0050\n",
            "Epoch 17/100\n",
            "11/11 [==============================] - 4s 391ms/step - loss: 6.1698e-04 - val_loss: 0.0058\n",
            "Epoch 18/100\n",
            "11/11 [==============================] - 4s 388ms/step - loss: 4.8875e-04 - val_loss: 0.0049\n",
            "Epoch 19/100\n",
            "11/11 [==============================] - 4s 389ms/step - loss: 4.7251e-04 - val_loss: 0.0054\n",
            "Epoch 20/100\n",
            "11/11 [==============================] - 4s 391ms/step - loss: 4.6301e-04 - val_loss: 0.0042\n",
            "Epoch 21/100\n",
            "11/11 [==============================] - 4s 390ms/step - loss: 4.6424e-04 - val_loss: 0.0044\n",
            "Epoch 22/100\n",
            "11/11 [==============================] - 4s 394ms/step - loss: 4.5224e-04 - val_loss: 0.0043\n",
            "Epoch 23/100\n",
            "11/11 [==============================] - 4s 395ms/step - loss: 4.6658e-04 - val_loss: 0.0044\n",
            "Epoch 24/100\n",
            "11/11 [==============================] - 4s 390ms/step - loss: 4.2892e-04 - val_loss: 0.0043\n",
            "Epoch 25/100\n",
            "11/11 [==============================] - 4s 393ms/step - loss: 4.2927e-04 - val_loss: 0.0033\n",
            "Epoch 26/100\n",
            "11/11 [==============================] - 5s 494ms/step - loss: 4.2257e-04 - val_loss: 0.0041\n",
            "Epoch 27/100\n",
            "11/11 [==============================] - 4s 396ms/step - loss: 4.1876e-04 - val_loss: 0.0051\n",
            "Epoch 28/100\n",
            "11/11 [==============================] - 4s 395ms/step - loss: 4.1469e-04 - val_loss: 0.0047\n",
            "Epoch 29/100\n",
            "11/11 [==============================] - 4s 395ms/step - loss: 4.0247e-04 - val_loss: 0.0035\n",
            "Epoch 30/100\n",
            "11/11 [==============================] - 4s 400ms/step - loss: 3.9226e-04 - val_loss: 0.0035\n",
            "Epoch 31/100\n",
            "11/11 [==============================] - 4s 397ms/step - loss: 3.8439e-04 - val_loss: 0.0036\n",
            "Epoch 32/100\n",
            "11/11 [==============================] - 4s 396ms/step - loss: 4.2511e-04 - val_loss: 0.0026\n",
            "Epoch 33/100\n",
            "11/11 [==============================] - 4s 395ms/step - loss: 3.8882e-04 - val_loss: 0.0036\n",
            "Epoch 34/100\n",
            "11/11 [==============================] - 4s 396ms/step - loss: 3.7389e-04 - val_loss: 0.0033\n",
            "Epoch 35/100\n",
            "11/11 [==============================] - 4s 395ms/step - loss: 3.6565e-04 - val_loss: 0.0035\n",
            "Epoch 36/100\n",
            "11/11 [==============================] - 4s 398ms/step - loss: 3.4469e-04 - val_loss: 0.0027\n",
            "Epoch 37/100\n",
            "11/11 [==============================] - 4s 399ms/step - loss: 3.5567e-04 - val_loss: 0.0023\n",
            "Epoch 38/100\n",
            "11/11 [==============================] - 4s 394ms/step - loss: 3.9943e-04 - val_loss: 0.0045\n",
            "Epoch 39/100\n",
            "11/11 [==============================] - 4s 394ms/step - loss: 3.3447e-04 - val_loss: 0.0028\n",
            "Epoch 40/100\n",
            "11/11 [==============================] - 4s 393ms/step - loss: 3.3375e-04 - val_loss: 0.0038\n",
            "Epoch 41/100\n",
            "11/11 [==============================] - 4s 395ms/step - loss: 3.3545e-04 - val_loss: 0.0021\n",
            "Epoch 42/100\n",
            "11/11 [==============================] - 4s 395ms/step - loss: 3.8470e-04 - val_loss: 0.0052\n",
            "Epoch 43/100\n",
            "11/11 [==============================] - 4s 395ms/step - loss: 4.0332e-04 - val_loss: 0.0054\n",
            "Epoch 44/100\n",
            "11/11 [==============================] - 4s 399ms/step - loss: 3.4022e-04 - val_loss: 0.0032\n",
            "Epoch 45/100\n",
            "11/11 [==============================] - 4s 398ms/step - loss: 3.0624e-04 - val_loss: 0.0033\n",
            "Epoch 46/100\n",
            "11/11 [==============================] - 4s 397ms/step - loss: 2.9890e-04 - val_loss: 0.0047\n",
            "Epoch 47/100\n",
            "11/11 [==============================] - 4s 394ms/step - loss: 3.0342e-04 - val_loss: 0.0030\n",
            "Epoch 48/100\n",
            "11/11 [==============================] - 4s 396ms/step - loss: 2.8903e-04 - val_loss: 0.0035\n",
            "Epoch 49/100\n",
            "11/11 [==============================] - 4s 396ms/step - loss: 2.8669e-04 - val_loss: 0.0032\n",
            "Epoch 50/100\n",
            "11/11 [==============================] - 5s 498ms/step - loss: 3.3187e-04 - val_loss: 0.0031\n",
            "Epoch 51/100\n",
            "11/11 [==============================] - 4s 398ms/step - loss: 3.0757e-04 - val_loss: 0.0044\n",
            "Epoch 52/100\n",
            "11/11 [==============================] - 4s 397ms/step - loss: 2.6938e-04 - val_loss: 0.0052\n",
            "Epoch 53/100\n",
            "11/11 [==============================] - 4s 394ms/step - loss: 2.8210e-04 - val_loss: 0.0026\n",
            "Epoch 54/100\n",
            "11/11 [==============================] - 4s 394ms/step - loss: 3.2016e-04 - val_loss: 0.0028\n",
            "Epoch 55/100\n",
            "11/11 [==============================] - 4s 398ms/step - loss: 2.8521e-04 - val_loss: 0.0073\n",
            "Epoch 56/100\n",
            "11/11 [==============================] - 4s 397ms/step - loss: 2.8658e-04 - val_loss: 0.0028\n",
            "Epoch 57/100\n",
            "11/11 [==============================] - 4s 398ms/step - loss: 2.5304e-04 - val_loss: 0.0029\n",
            "Epoch 58/100\n",
            "11/11 [==============================] - 4s 398ms/step - loss: 2.8333e-04 - val_loss: 0.0032\n",
            "Epoch 59/100\n",
            "11/11 [==============================] - 4s 402ms/step - loss: 2.9192e-04 - val_loss: 0.0059\n",
            "Epoch 60/100\n",
            "11/11 [==============================] - 4s 401ms/step - loss: 2.7172e-04 - val_loss: 0.0034\n",
            "Epoch 61/100\n",
            "11/11 [==============================] - 4s 397ms/step - loss: 2.3869e-04 - val_loss: 0.0027\n",
            "Epoch 62/100\n",
            "11/11 [==============================] - 4s 400ms/step - loss: 2.8432e-04 - val_loss: 0.0050\n",
            "Epoch 63/100\n",
            "11/11 [==============================] - 4s 398ms/step - loss: 3.0327e-04 - val_loss: 0.0059\n",
            "Epoch 64/100\n",
            "11/11 [==============================] - 4s 398ms/step - loss: 2.4517e-04 - val_loss: 0.0045\n",
            "Epoch 65/100\n",
            "11/11 [==============================] - 4s 394ms/step - loss: 2.2704e-04 - val_loss: 0.0038\n",
            "Epoch 66/100\n",
            "11/11 [==============================] - 4s 392ms/step - loss: 2.1728e-04 - val_loss: 0.0056\n",
            "Epoch 67/100\n",
            "11/11 [==============================] - 4s 393ms/step - loss: 2.3158e-04 - val_loss: 0.0039\n",
            "Epoch 68/100\n",
            "11/11 [==============================] - 4s 393ms/step - loss: 2.2723e-04 - val_loss: 0.0049\n",
            "Epoch 69/100\n",
            "11/11 [==============================] - 4s 394ms/step - loss: 2.1687e-04 - val_loss: 0.0044\n",
            "Epoch 70/100\n",
            "11/11 [==============================] - 4s 397ms/step - loss: 2.0278e-04 - val_loss: 0.0054\n",
            "Epoch 71/100\n",
            "11/11 [==============================] - 4s 395ms/step - loss: 1.9559e-04 - val_loss: 0.0040\n",
            "Epoch 72/100\n",
            "11/11 [==============================] - 4s 390ms/step - loss: 1.9227e-04 - val_loss: 0.0034\n",
            "Epoch 73/100\n",
            "11/11 [==============================] - 4s 394ms/step - loss: 1.9483e-04 - val_loss: 0.0045\n",
            "Epoch 74/100\n",
            "11/11 [==============================] - 4s 394ms/step - loss: 1.9511e-04 - val_loss: 0.0043\n",
            "Epoch 75/100\n",
            "11/11 [==============================] - 5s 490ms/step - loss: 1.9809e-04 - val_loss: 0.0035\n",
            "Epoch 76/100\n",
            "11/11 [==============================] - 4s 399ms/step - loss: 1.8570e-04 - val_loss: 0.0040\n",
            "Epoch 77/100\n",
            "11/11 [==============================] - 4s 394ms/step - loss: 1.8224e-04 - val_loss: 0.0035\n",
            "Epoch 78/100\n",
            "11/11 [==============================] - 4s 395ms/step - loss: 1.7802e-04 - val_loss: 0.0037\n",
            "Epoch 79/100\n",
            "11/11 [==============================] - 4s 394ms/step - loss: 1.9220e-04 - val_loss: 0.0042\n",
            "Epoch 80/100\n",
            "11/11 [==============================] - 4s 398ms/step - loss: 1.8186e-04 - val_loss: 0.0032\n",
            "Epoch 81/100\n",
            "11/11 [==============================] - 4s 391ms/step - loss: 1.9029e-04 - val_loss: 0.0031\n",
            "Epoch 82/100\n",
            "11/11 [==============================] - 4s 393ms/step - loss: 1.7366e-04 - val_loss: 0.0045\n",
            "Epoch 83/100\n",
            "11/11 [==============================] - 4s 389ms/step - loss: 1.7485e-04 - val_loss: 0.0025\n",
            "Epoch 84/100\n",
            "11/11 [==============================] - 4s 390ms/step - loss: 1.7055e-04 - val_loss: 0.0033\n",
            "Epoch 85/100\n",
            "11/11 [==============================] - 4s 398ms/step - loss: 1.5649e-04 - val_loss: 0.0030\n",
            "Epoch 86/100\n",
            "11/11 [==============================] - 4s 390ms/step - loss: 1.5862e-04 - val_loss: 0.0034\n",
            "Epoch 87/100\n",
            "11/11 [==============================] - 4s 391ms/step - loss: 1.5730e-04 - val_loss: 0.0029\n",
            "Epoch 88/100\n",
            "11/11 [==============================] - 4s 390ms/step - loss: 1.7385e-04 - val_loss: 0.0020\n",
            "Epoch 89/100\n",
            "11/11 [==============================] - 4s 388ms/step - loss: 1.7681e-04 - val_loss: 0.0020\n",
            "Epoch 90/100\n",
            "11/11 [==============================] - 4s 391ms/step - loss: 1.6558e-04 - val_loss: 0.0041\n",
            "Epoch 91/100\n",
            "11/11 [==============================] - 4s 399ms/step - loss: 1.5181e-04 - val_loss: 0.0015\n",
            "Epoch 92/100\n",
            "11/11 [==============================] - 4s 395ms/step - loss: 2.0241e-04 - val_loss: 0.0028\n",
            "Epoch 93/100\n",
            "11/11 [==============================] - 4s 387ms/step - loss: 1.6587e-04 - val_loss: 0.0033\n",
            "Epoch 94/100\n",
            "11/11 [==============================] - 4s 391ms/step - loss: 1.4833e-04 - val_loss: 0.0018\n",
            "Epoch 95/100\n",
            "11/11 [==============================] - 4s 389ms/step - loss: 1.5200e-04 - val_loss: 0.0048\n",
            "Epoch 96/100\n",
            "11/11 [==============================] - 4s 390ms/step - loss: 1.6933e-04 - val_loss: 0.0026\n",
            "Epoch 97/100\n",
            "11/11 [==============================] - 4s 388ms/step - loss: 1.3542e-04 - val_loss: 0.0027\n",
            "Epoch 98/100\n",
            "11/11 [==============================] - 4s 393ms/step - loss: 1.3748e-04 - val_loss: 0.0023\n",
            "Epoch 99/100\n",
            "11/11 [==============================] - 4s 391ms/step - loss: 1.3778e-04 - val_loss: 0.0022\n",
            "Epoch 100/100\n",
            "11/11 [==============================] - 4s 389ms/step - loss: 1.3250e-04 - val_loss: 0.0023\n"
          ]
        },
        {
          "output_type": "execute_result",
          "data": {
            "text/plain": [
              "<tensorflow.python.keras.callbacks.History at 0x7f63724c6d50>"
            ]
          },
          "metadata": {},
          "execution_count": 79
        }
      ],
      "source": [
        "model.fit(x_train, y_train, validation_data = (x_test, y_test), epochs = 100, batch_size = 64, verbose = 1)"
      ]
    },
    {
      "cell_type": "code",
      "source": [
        "model.save('keras_model.h5')"
      ],
      "metadata": {
        "id": "XWQZC0V45OH-"
      },
      "execution_count": 80,
      "outputs": []
    },
    {
      "cell_type": "code",
      "execution_count": 81,
      "metadata": {
        "id": "gxTBq1Ogj1tg"
      },
      "outputs": [],
      "source": [
        "#Lets predict and check performance metrics\n",
        "train_predict = model.predict(x_train)\n",
        "test_predict = model.predict(x_test)"
      ]
    },
    {
      "cell_type": "code",
      "execution_count": 82,
      "metadata": {
        "id": "SaWmwLX_j1tg"
      },
      "outputs": [],
      "source": [
        "#Transform back to original form\n",
        "train_predict = scaler.inverse_transform(train_predict)\n",
        "test_predict = scaler.inverse_transform(test_predict)"
      ]
    },
    {
      "cell_type": "code",
      "execution_count": 83,
      "metadata": {
        "id": "Ne-KRqYsj1tg",
        "colab": {
          "base_uri": "https://localhost:8080/"
        },
        "outputId": "8cb2dc85-31dc-4e32-8cef-f85c9d347b40"
      },
      "outputs": [
        {
          "output_type": "execute_result",
          "data": {
            "text/plain": [
              "33.74196647914983"
            ]
          },
          "metadata": {},
          "execution_count": 83
        }
      ],
      "source": [
        "#Calculate RMSE performance metrics\n",
        "math.sqrt(mean_squared_error(y_train, train_predict))"
      ]
    },
    {
      "cell_type": "code",
      "execution_count": 84,
      "metadata": {
        "id": "gBAGKJPyj1tg",
        "colab": {
          "base_uri": "https://localhost:8080/"
        },
        "outputId": "a0b039cc-5cf0-45d7-c6cc-f9b31f9affda"
      },
      "outputs": [
        {
          "output_type": "execute_result",
          "data": {
            "text/plain": [
              "55.35785035990333"
            ]
          },
          "metadata": {},
          "execution_count": 84
        }
      ],
      "source": [
        "#Test Data RMSE\n",
        "math.sqrt(mean_squared_error(y_test, test_predict))"
      ]
    },
    {
      "cell_type": "code",
      "execution_count": 85,
      "metadata": {
        "id": "1F0RLjIFj1tg",
        "colab": {
          "base_uri": "https://localhost:8080/",
          "height": 265
        },
        "outputId": "9fea6e4a-e3f4-48d1-da8b-b2aa5299f9df"
      },
      "outputs": [
        {
          "output_type": "display_data",
          "data": {
            "text/plain": [
              "<Figure size 432x288 with 1 Axes>"
            ],
            "image/png": "[encoded data removed]"
          },
          "metadata": {
            "needs_background": "light"
          }
        }
      ],
      "source": [
        "#Plotting\n",
        "\n",
        "#Shift train prediction for plotting\n",
        "look_back = 100\n",
        "trainPredictPlot = np.empty_like(df_close)\n",
        "trainPredictPlot[:,:] = np.nan\n",
        "trainPredictPlot[look_back:len(train_predict) + look_back, :] = train_predict\n",
        "\n",
        "#Shift test prediction for plotting\n",
        "testPredictPlot = np.empty_like(df_close)\n",
        "testPredictPlot[:,:] = np.nan\n",
        "testPredictPlot[len(train_predict) + (look_back * 2)+1:len(df_close) - 1, :] = test_predict\n",
        "\n",
        "#Plot baseline and predictions\n",
        "plt.plot(scaler.inverse_transform(df_close))\n",
        "plt.plot(trainPredictPlot)\n",
        "plt.plot(testPredictPlot)\n",
        "plt.show()\n",
        "# test data set output is in green color\n",
        "# training data set output is in orange color \n",
        "# blue color is of actual data set"
      ]
    },
    {
      "cell_type": "markdown",
      "metadata": {
        "id": "FhWyi3y1j1th"
      },
      "source": [
        "### Predict the next 30 days Stock Price"
      ]
    },
    {
      "cell_type": "code",
      "execution_count": 86,
      "metadata": {
        "id": "bzSfAgqXj1th"
      },
      "outputs": [],
      "source": [
        "len(test_data) \n",
        "time_stamp = 100"
      ]
    },
    {
      "cell_type": "code",
      "execution_count": 87,
      "metadata": {
        "id": "v2uWamSWj1th",
        "colab": {
          "base_uri": "https://localhost:8080/"
        },
        "outputId": "3d1b015d-1455-4c9a-8a8d-c4f2f29d8d48"
      },
      "outputs": [
        {
          "output_type": "stream",
          "name": "stdout",
          "text": [
            "(1, 100)\n",
            "504\n",
            "404\n"
          ]
        }
      ],
      "source": [
        "x_input = test_data[(len(test_data)-time_stamp):].reshape(1,-1)\n",
        "print(x_input.shape)\n",
        "print(len(test_data))\n",
        "print(len(test_data) - time_stamp)"
      ]
    },
    {
      "cell_type": "code",
      "execution_count": 88,
      "metadata": {
        "id": "YSJPreaBj1th"
      },
      "outputs": [],
      "source": [
        "temp_input = list(x_input)\n",
        "temp_input = temp_input[0].tolist()"
      ]
    },
    {
      "cell_type": "code",
      "source": [
        "len(temp_input)"
      ],
      "metadata": {
        "id": "ww25Yt9O9iOb",
        "colab": {
          "base_uri": "https://localhost:8080/"
        },
        "outputId": "6deef2d8-98e9-4cb4-9078-4743387ccea2"
      },
      "execution_count": 89,
      "outputs": [
        {
          "output_type": "execute_result",
          "data": {
            "text/plain": [
              "100"
            ]
          },
          "metadata": {},
          "execution_count": 89
        }
      ]
    },
    {
      "cell_type": "code",
      "execution_count": 90,
      "metadata": {
        "id": "lNdGtJWGj1th",
        "colab": {
          "base_uri": "https://localhost:8080/"
        },
        "outputId": "f3979ff7-e73e-4db5-8ba7-88d5e8934394"
      },
      "outputs": [
        {
          "output_type": "stream",
          "name": "stdout",
          "text": [
            "[0.8776263]\n",
            "101\n",
            "1 day input [0.88664188 0.87431387 0.88431976 0.87836699 0.89863207 0.92582113\n",
            " 0.92877639 0.95676763 0.93869789 0.93304055 0.94950595 0.96424048\n",
            " 0.95512115 0.95989192 0.96635143 0.96246722 0.92295027 0.95984966\n",
            " 0.98792529 0.98594099 0.92531453 0.92172588 0.96474708 0.97572406\n",
            " 0.99159833 0.9697289  0.97614615 0.96795564 1.         0.99016289\n",
            " 0.99050072 0.96538034 0.98488552 0.97086877 0.94025997 0.87748029\n",
            " 0.83483905 0.85413318 0.77336815 0.77269263 0.88014011 0.8400743\n",
            " 0.89673216 0.85527317 0.83884991 0.74233727 0.82327108 0.781432\n",
            " 0.66659625 0.79215567 0.64118044 0.68614369 0.6600101  0.6520307\n",
            " 0.58642236 0.56586165 0.66089672 0.65515493 0.70970191 0.66452756\n",
            " 0.69437638 0.69218098 0.63569196 0.65266396 0.63780291 0.72671618\n",
            " 0.71388155 0.74191505 0.75002103 0.77222828 0.83049049 0.81942913\n",
            " 0.82897067 0.81254741 0.78776486 0.75162538 0.78426073 0.77974327\n",
            " 0.81326519 0.81410962 0.79473097 0.83336149 0.85898834 0.83901882\n",
            " 0.85628639 0.87486273 0.88782401 0.90095406 0.92793209 0.94853499\n",
            " 0.93333612 0.91746172 0.92544118 0.91771502 0.94832382 0.94064005\n",
            " 0.96635143 0.95630328 0.964916   0.8776263 ]\n",
            "1 day output [[0.847809]]\n",
            "2 day input [0.87431387 0.88431976 0.87836699 0.89863207 0.92582113 0.92877639\n",
            " 0.95676763 0.93869789 0.93304055 0.94950595 0.96424048 0.95512115\n",
            " 0.95989192 0.96635143 0.96246722 0.92295027 0.95984966 0.98792529\n",
            " 0.98594099 0.92531453 0.92172588 0.96474708 0.97572406 0.99159833\n",
            " 0.9697289  0.97614615 0.96795564 1.         0.99016289 0.99050072\n",
            " 0.96538034 0.98488552 0.97086877 0.94025997 0.87748029 0.83483905\n",
            " 0.85413318 0.77336815 0.77269263 0.88014011 0.8400743  0.89673216\n",
            " 0.85527317 0.83884991 0.74233727 0.82327108 0.781432   0.66659625\n",
            " 0.79215567 0.64118044 0.68614369 0.6600101  0.6520307  0.58642236\n",
            " 0.56586165 0.66089672 0.65515493 0.70970191 0.66452756 0.69437638\n",
            " 0.69218098 0.63569196 0.65266396 0.63780291 0.72671618 0.71388155\n",
            " 0.74191505 0.75002103 0.77222828 0.83049049 0.81942913 0.82897067\n",
            " 0.81254741 0.78776486 0.75162538 0.78426073 0.77974327 0.81326519\n",
            " 0.81410962 0.79473097 0.83336149 0.85898834 0.83901882 0.85628639\n",
            " 0.87486273 0.88782401 0.90095406 0.92793209 0.94853499 0.93333612\n",
            " 0.91746172 0.92544118 0.91771502 0.94832382 0.94064005 0.96635143\n",
            " 0.95630328 0.964916   0.8776263  0.84780902]\n",
            "2 day output [[0.8002948]]\n",
            "3 day input [0.88431976 0.87836699 0.89863207 0.92582113 0.92877639 0.95676763\n",
            " 0.93869789 0.93304055 0.94950595 0.96424048 0.95512115 0.95989192\n",
            " 0.96635143 0.96246722 0.92295027 0.95984966 0.98792529 0.98594099\n",
            " 0.92531453 0.92172588 0.96474708 0.97572406 0.99159833 0.9697289\n",
            " 0.97614615 0.96795564 1.         0.99016289 0.99050072 0.96538034\n",
            " 0.98488552 0.97086877 0.94025997 0.87748029 0.83483905 0.85413318\n",
            " 0.77336815 0.77269263 0.88014011 0.8400743  0.89673216 0.85527317\n",
            " 0.83884991 0.74233727 0.82327108 0.781432   0.66659625 0.79215567\n",
            " 0.64118044 0.68614369 0.6600101  0.6520307  0.58642236 0.56586165\n",
            " 0.66089672 0.65515493 0.70970191 0.66452756 0.69437638 0.69218098\n",
            " 0.63569196 0.65266396 0.63780291 0.72671618 0.71388155 0.74191505\n",
            " 0.75002103 0.77222828 0.83049049 0.81942913 0.82897067 0.81254741\n",
            " 0.78776486 0.75162538 0.78426073 0.77974327 0.81326519 0.81410962\n",
            " 0.79473097 0.83336149 0.85898834 0.83901882 0.85628639 0.87486273\n",
            " 0.88782401 0.90095406 0.92793209 0.94853499 0.93333612 0.91746172\n",
            " 0.92544118 0.91771502 0.94832382 0.94064005 0.96635143 0.95630328\n",
            " 0.964916   0.8776263  0.84780902 0.80029482]\n",
            "3 day output [[0.7513134]]\n",
            "4 day input [0.87836699 0.89863207 0.92582113 0.92877639 0.95676763 0.93869789\n",
            " 0.93304055 0.94950595 0.96424048 0.95512115 0.95989192 0.96635143\n",
            " 0.96246722 0.92295027 0.95984966 0.98792529 0.98594099 0.92531453\n",
            " 0.92172588 0.96474708 0.97572406 0.99159833 0.9697289  0.97614615\n",
            " 0.96795564 1.         0.99016289 0.99050072 0.96538034 0.98488552\n",
            " 0.97086877 0.94025997 0.87748029 0.83483905 0.85413318 0.77336815\n",
            " 0.77269263 0.88014011 0.8400743  0.89673216 0.85527317 0.83884991\n",
            " 0.74233727 0.82327108 0.781432   0.66659625 0.79215567 0.64118044\n",
            " 0.68614369 0.6600101  0.6520307  0.58642236 0.56586165 0.66089672\n",
            " 0.65515493 0.70970191 0.66452756 0.69437638 0.69218098 0.63569196\n",
            " 0.65266396 0.63780291 0.72671618 0.71388155 0.74191505 0.75002103\n",
            " 0.77222828 0.83049049 0.81942913 0.82897067 0.81254741 0.78776486\n",
            " 0.75162538 0.78426073 0.77974327 0.81326519 0.81410962 0.79473097\n",
            " 0.83336149 0.85898834 0.83901882 0.85628639 0.87486273 0.88782401\n",
            " 0.90095406 0.92793209 0.94853499 0.93333612 0.91746172 0.92544118\n",
            " 0.91771502 0.94832382 0.94064005 0.96635143 0.95630328 0.964916\n",
            " 0.8776263  0.84780902 0.80029482 0.75131339]\n",
            "4 day output [[0.70867187]]\n",
            "5 day input [0.89863207 0.92582113 0.92877639 0.95676763 0.93869789 0.93304055\n",
            " 0.94950595 0.96424048 0.95512115 0.95989192 0.96635143 0.96246722\n",
            " 0.92295027 0.95984966 0.98792529 0.98594099 0.92531453 0.92172588\n",
            " 0.96474708 0.97572406 0.99159833 0.9697289  0.97614615 0.96795564\n",
            " 1.         0.99016289 0.99050072 0.96538034 0.98488552 0.97086877\n",
            " 0.94025997 0.87748029 0.83483905 0.85413318 0.77336815 0.77269263\n",
            " 0.88014011 0.8400743  0.89673216 0.85527317 0.83884991 0.74233727\n",
            " 0.82327108 0.781432   0.66659625 0.79215567 0.64118044 0.68614369\n",
            " 0.6600101  0.6520307  0.58642236 0.56586165 0.66089672 0.65515493\n",
            " 0.70970191 0.66452756 0.69437638 0.69218098 0.63569196 0.65266396\n",
            " 0.63780291 0.72671618 0.71388155 0.74191505 0.75002103 0.77222828\n",
            " 0.83049049 0.81942913 0.82897067 0.81254741 0.78776486 0.75162538\n",
            " 0.78426073 0.77974327 0.81326519 0.81410962 0.79473097 0.83336149\n",
            " 0.85898834 0.83901882 0.85628639 0.87486273 0.88782401 0.90095406\n",
            " 0.92793209 0.94853499 0.93333612 0.91746172 0.92544118 0.91771502\n",
            " 0.94832382 0.94064005 0.96635143 0.95630328 0.964916   0.8776263\n",
            " 0.84780902 0.80029482 0.75131339 0.70867187]\n",
            "5 day output [[0.67559826]]\n",
            "6 day input [0.92582113 0.92877639 0.95676763 0.93869789 0.93304055 0.94950595\n",
            " 0.96424048 0.95512115 0.95989192 0.96635143 0.96246722 0.92295027\n",
            " 0.95984966 0.98792529 0.98594099 0.92531453 0.92172588 0.96474708\n",
            " 0.97572406 0.99159833 0.9697289  0.97614615 0.96795564 1.\n",
            " 0.99016289 0.99050072 0.96538034 0.98488552 0.97086877 0.94025997\n",
            " 0.87748029 0.83483905 0.85413318 0.77336815 0.77269263 0.88014011\n",
            " 0.8400743  0.89673216 0.85527317 0.83884991 0.74233727 0.82327108\n",
            " 0.781432   0.66659625 0.79215567 0.64118044 0.68614369 0.6600101\n",
            " 0.6520307  0.58642236 0.56586165 0.66089672 0.65515493 0.70970191\n",
            " 0.66452756 0.69437638 0.69218098 0.63569196 0.65266396 0.63780291\n",
            " 0.72671618 0.71388155 0.74191505 0.75002103 0.77222828 0.83049049\n",
            " 0.81942913 0.82897067 0.81254741 0.78776486 0.75162538 0.78426073\n",
            " 0.77974327 0.81326519 0.81410962 0.79473097 0.83336149 0.85898834\n",
            " 0.83901882 0.85628639 0.87486273 0.88782401 0.90095406 0.92793209\n",
            " 0.94853499 0.93333612 0.91746172 0.92544118 0.91771502 0.94832382\n",
            " 0.94064005 0.96635143 0.95630328 0.964916   0.8776263  0.84780902\n",
            " 0.80029482 0.75131339 0.70867187 0.67559826]\n",
            "6 day output [[0.6550137]]\n",
            "7 day input [0.92877639 0.95676763 0.93869789 0.93304055 0.94950595 0.96424048\n",
            " 0.95512115 0.95989192 0.96635143 0.96246722 0.92295027 0.95984966\n",
            " 0.98792529 0.98594099 0.92531453 0.92172588 0.96474708 0.97572406\n",
            " 0.99159833 0.9697289  0.97614615 0.96795564 1.         0.99016289\n",
            " 0.99050072 0.96538034 0.98488552 0.97086877 0.94025997 0.87748029\n",
            " 0.83483905 0.85413318 0.77336815 0.77269263 0.88014011 0.8400743\n",
            " 0.89673216 0.85527317 0.83884991 0.74233727 0.82327108 0.781432\n",
            " 0.66659625 0.79215567 0.64118044 0.68614369 0.6600101  0.6520307\n",
            " 0.58642236 0.56586165 0.66089672 0.65515493 0.70970191 0.66452756\n",
            " 0.69437638 0.69218098 0.63569196 0.65266396 0.63780291 0.72671618\n",
            " 0.71388155 0.74191505 0.75002103 0.77222828 0.83049049 0.81942913\n",
            " 0.82897067 0.81254741 0.78776486 0.75162538 0.78426073 0.77974327\n",
            " 0.81326519 0.81410962 0.79473097 0.83336149 0.85898834 0.83901882\n",
            " 0.85628639 0.87486273 0.88782401 0.90095406 0.92793209 0.94853499\n",
            " 0.93333612 0.91746172 0.92544118 0.91771502 0.94832382 0.94064005\n",
            " 0.96635143 0.95630328 0.964916   0.8776263  0.84780902 0.80029482\n",
            " 0.75131339 0.70867187 0.67559826 0.65501368]\n",
            "7 day output [[0.6467085]]\n",
            "8 day input [0.95676763 0.93869789 0.93304055 0.94950595 0.96424048 0.95512115\n",
            " 0.95989192 0.96635143 0.96246722 0.92295027 0.95984966 0.98792529\n",
            " 0.98594099 0.92531453 0.92172588 0.96474708 0.97572406 0.99159833\n",
            " 0.9697289  0.97614615 0.96795564 1.         0.99016289 0.99050072\n",
            " 0.96538034 0.98488552 0.97086877 0.94025997 0.87748029 0.83483905\n",
            " 0.85413318 0.77336815 0.77269263 0.88014011 0.8400743  0.89673216\n",
            " 0.85527317 0.83884991 0.74233727 0.82327108 0.781432   0.66659625\n",
            " 0.79215567 0.64118044 0.68614369 0.6600101  0.6520307  0.58642236\n",
            " 0.56586165 0.66089672 0.65515493 0.70970191 0.66452756 0.69437638\n",
            " 0.69218098 0.63569196 0.65266396 0.63780291 0.72671618 0.71388155\n",
            " 0.74191505 0.75002103 0.77222828 0.83049049 0.81942913 0.82897067\n",
            " 0.81254741 0.78776486 0.75162538 0.78426073 0.77974327 0.81326519\n",
            " 0.81410962 0.79473097 0.83336149 0.85898834 0.83901882 0.85628639\n",
            " 0.87486273 0.88782401 0.90095406 0.92793209 0.94853499 0.93333612\n",
            " 0.91746172 0.92544118 0.91771502 0.94832382 0.94064005 0.96635143\n",
            " 0.95630328 0.964916   0.8776263  0.84780902 0.80029482 0.75131339\n",
            " 0.70867187 0.67559826 0.65501368 0.64670849]\n",
            "8 day output [[0.6487645]]\n",
            "9 day input [0.93869789 0.93304055 0.94950595 0.96424048 0.95512115 0.95989192\n",
            " 0.96635143 0.96246722 0.92295027 0.95984966 0.98792529 0.98594099\n",
            " 0.92531453 0.92172588 0.96474708 0.97572406 0.99159833 0.9697289\n",
            " 0.97614615 0.96795564 1.         0.99016289 0.99050072 0.96538034\n",
            " 0.98488552 0.97086877 0.94025997 0.87748029 0.83483905 0.85413318\n",
            " 0.77336815 0.77269263 0.88014011 0.8400743  0.89673216 0.85527317\n",
            " 0.83884991 0.74233727 0.82327108 0.781432   0.66659625 0.79215567\n",
            " 0.64118044 0.68614369 0.6600101  0.6520307  0.58642236 0.56586165\n",
            " 0.66089672 0.65515493 0.70970191 0.66452756 0.69437638 0.69218098\n",
            " 0.63569196 0.65266396 0.63780291 0.72671618 0.71388155 0.74191505\n",
            " 0.75002103 0.77222828 0.83049049 0.81942913 0.82897067 0.81254741\n",
            " 0.78776486 0.75162538 0.78426073 0.77974327 0.81326519 0.81410962\n",
            " 0.79473097 0.83336149 0.85898834 0.83901882 0.85628639 0.87486273\n",
            " 0.88782401 0.90095406 0.92793209 0.94853499 0.93333612 0.91746172\n",
            " 0.92544118 0.91771502 0.94832382 0.94064005 0.96635143 0.95630328\n",
            " 0.964916   0.8776263  0.84780902 0.80029482 0.75131339 0.70867187\n",
            " 0.67559826 0.65501368 0.64670849 0.64876449]\n",
            "9 day output [[0.6583073]]\n",
            "10 day input [0.93304055 0.94950595 0.96424048 0.95512115 0.95989192 0.96635143\n",
            " 0.96246722 0.92295027 0.95984966 0.98792529 0.98594099 0.92531453\n",
            " 0.92172588 0.96474708 0.97572406 0.99159833 0.9697289  0.97614615\n",
            " 0.96795564 1.         0.99016289 0.99050072 0.96538034 0.98488552\n",
            " 0.97086877 0.94025997 0.87748029 0.83483905 0.85413318 0.77336815\n",
            " 0.77269263 0.88014011 0.8400743  0.89673216 0.85527317 0.83884991\n",
            " 0.74233727 0.82327108 0.781432   0.66659625 0.79215567 0.64118044\n",
            " 0.68614369 0.6600101  0.6520307  0.58642236 0.56586165 0.66089672\n",
            " 0.65515493 0.70970191 0.66452756 0.69437638 0.69218098 0.63569196\n",
            " 0.65266396 0.63780291 0.72671618 0.71388155 0.74191505 0.75002103\n",
            " 0.77222828 0.83049049 0.81942913 0.82897067 0.81254741 0.78776486\n",
            " 0.75162538 0.78426073 0.77974327 0.81326519 0.81410962 0.79473097\n",
            " 0.83336149 0.85898834 0.83901882 0.85628639 0.87486273 0.88782401\n",
            " 0.90095406 0.92793209 0.94853499 0.93333612 0.91746172 0.92544118\n",
            " 0.91771502 0.94832382 0.94064005 0.96635143 0.95630328 0.964916\n",
            " 0.8776263  0.84780902 0.80029482 0.75131339 0.70867187 0.67559826\n",
            " 0.65501368 0.64670849 0.64876449 0.65830731]\n",
            "10 day output [[0.6720149]]\n",
            "11 day input [0.94950595 0.96424048 0.95512115 0.95989192 0.96635143 0.96246722\n",
            " 0.92295027 0.95984966 0.98792529 0.98594099 0.92531453 0.92172588\n",
            " 0.96474708 0.97572406 0.99159833 0.9697289  0.97614615 0.96795564\n",
            " 1.         0.99016289 0.99050072 0.96538034 0.98488552 0.97086877\n",
            " 0.94025997 0.87748029 0.83483905 0.85413318 0.77336815 0.77269263\n",
            " 0.88014011 0.8400743  0.89673216 0.85527317 0.83884991 0.74233727\n",
            " 0.82327108 0.781432   0.66659625 0.79215567 0.64118044 0.68614369\n",
            " 0.6600101  0.6520307  0.58642236 0.56586165 0.66089672 0.65515493\n",
            " 0.70970191 0.66452756 0.69437638 0.69218098 0.63569196 0.65266396\n",
            " 0.63780291 0.72671618 0.71388155 0.74191505 0.75002103 0.77222828\n",
            " 0.83049049 0.81942913 0.82897067 0.81254741 0.78776486 0.75162538\n",
            " 0.78426073 0.77974327 0.81326519 0.81410962 0.79473097 0.83336149\n",
            " 0.85898834 0.83901882 0.85628639 0.87486273 0.88782401 0.90095406\n",
            " 0.92793209 0.94853499 0.93333612 0.91746172 0.92544118 0.91771502\n",
            " 0.94832382 0.94064005 0.96635143 0.95630328 0.964916   0.8776263\n",
            " 0.84780902 0.80029482 0.75131339 0.70867187 0.67559826 0.65501368\n",
            " 0.64670849 0.64876449 0.65830731 0.67201489]\n",
            "11 day output [[0.6867223]]\n",
            "12 day input [0.96424048 0.95512115 0.95989192 0.96635143 0.96246722 0.92295027\n",
            " 0.95984966 0.98792529 0.98594099 0.92531453 0.92172588 0.96474708\n",
            " 0.97572406 0.99159833 0.9697289  0.97614615 0.96795564 1.\n",
            " 0.99016289 0.99050072 0.96538034 0.98488552 0.97086877 0.94025997\n",
            " 0.87748029 0.83483905 0.85413318 0.77336815 0.77269263 0.88014011\n",
            " 0.8400743  0.89673216 0.85527317 0.83884991 0.74233727 0.82327108\n",
            " 0.781432   0.66659625 0.79215567 0.64118044 0.68614369 0.6600101\n",
            " 0.6520307  0.58642236 0.56586165 0.66089672 0.65515493 0.70970191\n",
            " 0.66452756 0.69437638 0.69218098 0.63569196 0.65266396 0.63780291\n",
            " 0.72671618 0.71388155 0.74191505 0.75002103 0.77222828 0.83049049\n",
            " 0.81942913 0.82897067 0.81254741 0.78776486 0.75162538 0.78426073\n",
            " 0.77974327 0.81326519 0.81410962 0.79473097 0.83336149 0.85898834\n",
            " 0.83901882 0.85628639 0.87486273 0.88782401 0.90095406 0.92793209\n",
            " 0.94853499 0.93333612 0.91746172 0.92544118 0.91771502 0.94832382\n",
            " 0.94064005 0.96635143 0.95630328 0.964916   0.8776263  0.84780902\n",
            " 0.80029482 0.75131339 0.70867187 0.67559826 0.65501368 0.64670849\n",
            " 0.64876449 0.65830731 0.67201489 0.68672228]\n",
            "12 day output [[0.6992055]]\n",
            "13 day input [0.95512115 0.95989192 0.96635143 0.96246722 0.92295027 0.95984966\n",
            " 0.98792529 0.98594099 0.92531453 0.92172588 0.96474708 0.97572406\n",
            " 0.99159833 0.9697289  0.97614615 0.96795564 1.         0.99016289\n",
            " 0.99050072 0.96538034 0.98488552 0.97086877 0.94025997 0.87748029\n",
            " 0.83483905 0.85413318 0.77336815 0.77269263 0.88014011 0.8400743\n",
            " 0.89673216 0.85527317 0.83884991 0.74233727 0.82327108 0.781432\n",
            " 0.66659625 0.79215567 0.64118044 0.68614369 0.6600101  0.6520307\n",
            " 0.58642236 0.56586165 0.66089672 0.65515493 0.70970191 0.66452756\n",
            " 0.69437638 0.69218098 0.63569196 0.65266396 0.63780291 0.72671618\n",
            " 0.71388155 0.74191505 0.75002103 0.77222828 0.83049049 0.81942913\n",
            " 0.82897067 0.81254741 0.78776486 0.75162538 0.78426073 0.77974327\n",
            " 0.81326519 0.81410962 0.79473097 0.83336149 0.85898834 0.83901882\n",
            " 0.85628639 0.87486273 0.88782401 0.90095406 0.92793209 0.94853499\n",
            " 0.93333612 0.91746172 0.92544118 0.91771502 0.94832382 0.94064005\n",
            " 0.96635143 0.95630328 0.964916   0.8776263  0.84780902 0.80029482\n",
            " 0.75131339 0.70867187 0.67559826 0.65501368 0.64670849 0.64876449\n",
            " 0.65830731 0.67201489 0.68672228 0.69920552]\n",
            "13 day output [[0.70692694]]\n",
            "14 day input [0.95989192 0.96635143 0.96246722 0.92295027 0.95984966 0.98792529\n",
            " 0.98594099 0.92531453 0.92172588 0.96474708 0.97572406 0.99159833\n",
            " 0.9697289  0.97614615 0.96795564 1.         0.99016289 0.99050072\n",
            " 0.96538034 0.98488552 0.97086877 0.94025997 0.87748029 0.83483905\n",
            " 0.85413318 0.77336815 0.77269263 0.88014011 0.8400743  0.89673216\n",
            " 0.85527317 0.83884991 0.74233727 0.82327108 0.781432   0.66659625\n",
            " 0.79215567 0.64118044 0.68614369 0.6600101  0.6520307  0.58642236\n",
            " 0.56586165 0.66089672 0.65515493 0.70970191 0.66452756 0.69437638\n",
            " 0.69218098 0.63569196 0.65266396 0.63780291 0.72671618 0.71388155\n",
            " 0.74191505 0.75002103 0.77222828 0.83049049 0.81942913 0.82897067\n",
            " 0.81254741 0.78776486 0.75162538 0.78426073 0.77974327 0.81326519\n",
            " 0.81410962 0.79473097 0.83336149 0.85898834 0.83901882 0.85628639\n",
            " 0.87486273 0.88782401 0.90095406 0.92793209 0.94853499 0.93333612\n",
            " 0.91746172 0.92544118 0.91771502 0.94832382 0.94064005 0.96635143\n",
            " 0.95630328 0.964916   0.8776263  0.84780902 0.80029482 0.75131339\n",
            " 0.70867187 0.67559826 0.65501368 0.64670849 0.64876449 0.65830731\n",
            " 0.67201489 0.68672228 0.69920552 0.70692694]\n",
            "14 day output [[0.7082343]]\n",
            "15 day input [0.96635143 0.96246722 0.92295027 0.95984966 0.98792529 0.98594099\n",
            " 0.92531453 0.92172588 0.96474708 0.97572406 0.99159833 0.9697289\n",
            " 0.97614615 0.96795564 1.         0.99016289 0.99050072 0.96538034\n",
            " 0.98488552 0.97086877 0.94025997 0.87748029 0.83483905 0.85413318\n",
            " 0.77336815 0.77269263 0.88014011 0.8400743  0.89673216 0.85527317\n",
            " 0.83884991 0.74233727 0.82327108 0.781432   0.66659625 0.79215567\n",
            " 0.64118044 0.68614369 0.6600101  0.6520307  0.58642236 0.56586165\n",
            " 0.66089672 0.65515493 0.70970191 0.66452756 0.69437638 0.69218098\n",
            " 0.63569196 0.65266396 0.63780291 0.72671618 0.71388155 0.74191505\n",
            " 0.75002103 0.77222828 0.83049049 0.81942913 0.82897067 0.81254741\n",
            " 0.78776486 0.75162538 0.78426073 0.77974327 0.81326519 0.81410962\n",
            " 0.79473097 0.83336149 0.85898834 0.83901882 0.85628639 0.87486273\n",
            " 0.88782401 0.90095406 0.92793209 0.94853499 0.93333612 0.91746172\n",
            " 0.92544118 0.91771502 0.94832382 0.94064005 0.96635143 0.95630328\n",
            " 0.964916   0.8776263  0.84780902 0.80029482 0.75131339 0.70867187\n",
            " 0.67559826 0.65501368 0.64670849 0.64876449 0.65830731 0.67201489\n",
            " 0.68672228 0.69920552 0.70692694 0.70823431]\n",
            "15 day output [[0.7025774]]\n",
            "16 day input [0.96246722 0.92295027 0.95984966 0.98792529 0.98594099 0.92531453\n",
            " 0.92172588 0.96474708 0.97572406 0.99159833 0.9697289  0.97614615\n",
            " 0.96795564 1.         0.99016289 0.99050072 0.96538034 0.98488552\n",
            " 0.97086877 0.94025997 0.87748029 0.83483905 0.85413318 0.77336815\n",
            " 0.77269263 0.88014011 0.8400743  0.89673216 0.85527317 0.83884991\n",
            " 0.74233727 0.82327108 0.781432   0.66659625 0.79215567 0.64118044\n",
            " 0.68614369 0.6600101  0.6520307  0.58642236 0.56586165 0.66089672\n",
            " 0.65515493 0.70970191 0.66452756 0.69437638 0.69218098 0.63569196\n",
            " 0.65266396 0.63780291 0.72671618 0.71388155 0.74191505 0.75002103\n",
            " 0.77222828 0.83049049 0.81942913 0.82897067 0.81254741 0.78776486\n",
            " 0.75162538 0.78426073 0.77974327 0.81326519 0.81410962 0.79473097\n",
            " 0.83336149 0.85898834 0.83901882 0.85628639 0.87486273 0.88782401\n",
            " 0.90095406 0.92793209 0.94853499 0.93333612 0.91746172 0.92544118\n",
            " 0.91771502 0.94832382 0.94064005 0.96635143 0.95630328 0.964916\n",
            " 0.8776263  0.84780902 0.80029482 0.75131339 0.70867187 0.67559826\n",
            " 0.65501368 0.64670849 0.64876449 0.65830731 0.67201489 0.68672228\n",
            " 0.69920552 0.70692694 0.70823431 0.70257741]\n",
            "16 day output [[0.69051814]]\n",
            "17 day input [0.92295027 0.95984966 0.98792529 0.98594099 0.92531453 0.92172588\n",
            " 0.96474708 0.97572406 0.99159833 0.9697289  0.97614615 0.96795564\n",
            " 1.         0.99016289 0.99050072 0.96538034 0.98488552 0.97086877\n",
            " 0.94025997 0.87748029 0.83483905 0.85413318 0.77336815 0.77269263\n",
            " 0.88014011 0.8400743  0.89673216 0.85527317 0.83884991 0.74233727\n",
            " 0.82327108 0.781432   0.66659625 0.79215567 0.64118044 0.68614369\n",
            " 0.6600101  0.6520307  0.58642236 0.56586165 0.66089672 0.65515493\n",
            " 0.70970191 0.66452756 0.69437638 0.69218098 0.63569196 0.65266396\n",
            " 0.63780291 0.72671618 0.71388155 0.74191505 0.75002103 0.77222828\n",
            " 0.83049049 0.81942913 0.82897067 0.81254741 0.78776486 0.75162538\n",
            " 0.78426073 0.77974327 0.81326519 0.81410962 0.79473097 0.83336149\n",
            " 0.85898834 0.83901882 0.85628639 0.87486273 0.88782401 0.90095406\n",
            " 0.92793209 0.94853499 0.93333612 0.91746172 0.92544118 0.91771502\n",
            " 0.94832382 0.94064005 0.96635143 0.95630328 0.964916   0.8776263\n",
            " 0.84780902 0.80029482 0.75131339 0.70867187 0.67559826 0.65501368\n",
            " 0.64670849 0.64876449 0.65830731 0.67201489 0.68672228 0.69920552\n",
            " 0.70692694 0.70823431 0.70257741 0.69051814]\n",
            "17 day output [[0.6735334]]\n",
            "18 day input [0.95984966 0.98792529 0.98594099 0.92531453 0.92172588 0.96474708\n",
            " 0.97572406 0.99159833 0.9697289  0.97614615 0.96795564 1.\n",
            " 0.99016289 0.99050072 0.96538034 0.98488552 0.97086877 0.94025997\n",
            " 0.87748029 0.83483905 0.85413318 0.77336815 0.77269263 0.88014011\n",
            " 0.8400743  0.89673216 0.85527317 0.83884991 0.74233727 0.82327108\n",
            " 0.781432   0.66659625 0.79215567 0.64118044 0.68614369 0.6600101\n",
            " 0.6520307  0.58642236 0.56586165 0.66089672 0.65515493 0.70970191\n",
            " 0.66452756 0.69437638 0.69218098 0.63569196 0.65266396 0.63780291\n",
            " 0.72671618 0.71388155 0.74191505 0.75002103 0.77222828 0.83049049\n",
            " 0.81942913 0.82897067 0.81254741 0.78776486 0.75162538 0.78426073\n",
            " 0.77974327 0.81326519 0.81410962 0.79473097 0.83336149 0.85898834\n",
            " 0.83901882 0.85628639 0.87486273 0.88782401 0.90095406 0.92793209\n",
            " 0.94853499 0.93333612 0.91746172 0.92544118 0.91771502 0.94832382\n",
            " 0.94064005 0.96635143 0.95630328 0.964916   0.8776263  0.84780902\n",
            " 0.80029482 0.75131339 0.70867187 0.67559826 0.65501368 0.64670849\n",
            " 0.64876449 0.65830731 0.67201489 0.68672228 0.69920552 0.70692694\n",
            " 0.70823431 0.70257741 0.69051814 0.67353338]\n",
            "18 day output [[0.6536829]]\n",
            "19 day input [0.98792529 0.98594099 0.92531453 0.92172588 0.96474708 0.97572406\n",
            " 0.99159833 0.9697289  0.97614615 0.96795564 1.         0.99016289\n",
            " 0.99050072 0.96538034 0.98488552 0.97086877 0.94025997 0.87748029\n",
            " 0.83483905 0.85413318 0.77336815 0.77269263 0.88014011 0.8400743\n",
            " 0.89673216 0.85527317 0.83884991 0.74233727 0.82327108 0.781432\n",
            " 0.66659625 0.79215567 0.64118044 0.68614369 0.6600101  0.6520307\n",
            " 0.58642236 0.56586165 0.66089672 0.65515493 0.70970191 0.66452756\n",
            " 0.69437638 0.69218098 0.63569196 0.65266396 0.63780291 0.72671618\n",
            " 0.71388155 0.74191505 0.75002103 0.77222828 0.83049049 0.81942913\n",
            " 0.82897067 0.81254741 0.78776486 0.75162538 0.78426073 0.77974327\n",
            " 0.81326519 0.81410962 0.79473097 0.83336149 0.85898834 0.83901882\n",
            " 0.85628639 0.87486273 0.88782401 0.90095406 0.92793209 0.94853499\n",
            " 0.93333612 0.91746172 0.92544118 0.91771502 0.94832382 0.94064005\n",
            " 0.96635143 0.95630328 0.964916   0.8776263  0.84780902 0.80029482\n",
            " 0.75131339 0.70867187 0.67559826 0.65501368 0.64670849 0.64876449\n",
            " 0.65830731 0.67201489 0.68672228 0.69920552 0.70692694 0.70823431\n",
            " 0.70257741 0.69051814 0.67353338 0.65368289]\n",
            "19 day output [[0.63322103]]\n",
            "20 day input [0.98594099 0.92531453 0.92172588 0.96474708 0.97572406 0.99159833\n",
            " 0.9697289  0.97614615 0.96795564 1.         0.99016289 0.99050072\n",
            " 0.96538034 0.98488552 0.97086877 0.94025997 0.87748029 0.83483905\n",
            " 0.85413318 0.77336815 0.77269263 0.88014011 0.8400743  0.89673216\n",
            " 0.85527317 0.83884991 0.74233727 0.82327108 0.781432   0.66659625\n",
            " 0.79215567 0.64118044 0.68614369 0.6600101  0.6520307  0.58642236\n",
            " 0.56586165 0.66089672 0.65515493 0.70970191 0.66452756 0.69437638\n",
            " 0.69218098 0.63569196 0.65266396 0.63780291 0.72671618 0.71388155\n",
            " 0.74191505 0.75002103 0.77222828 0.83049049 0.81942913 0.82897067\n",
            " 0.81254741 0.78776486 0.75162538 0.78426073 0.77974327 0.81326519\n",
            " 0.81410962 0.79473097 0.83336149 0.85898834 0.83901882 0.85628639\n",
            " 0.87486273 0.88782401 0.90095406 0.92793209 0.94853499 0.93333612\n",
            " 0.91746172 0.92544118 0.91771502 0.94832382 0.94064005 0.96635143\n",
            " 0.95630328 0.964916   0.8776263  0.84780902 0.80029482 0.75131339\n",
            " 0.70867187 0.67559826 0.65501368 0.64670849 0.64876449 0.65830731\n",
            " 0.67201489 0.68672228 0.69920552 0.70692694 0.70823431 0.70257741\n",
            " 0.69051814 0.67353338 0.65368289 0.63322103]\n",
            "20 day output [[0.6142204]]\n",
            "21 day input [0.92531453 0.92172588 0.96474708 0.97572406 0.99159833 0.9697289\n",
            " 0.97614615 0.96795564 1.         0.99016289 0.99050072 0.96538034\n",
            " 0.98488552 0.97086877 0.94025997 0.87748029 0.83483905 0.85413318\n",
            " 0.77336815 0.77269263 0.88014011 0.8400743  0.89673216 0.85527317\n",
            " 0.83884991 0.74233727 0.82327108 0.781432   0.66659625 0.79215567\n",
            " 0.64118044 0.68614369 0.6600101  0.6520307  0.58642236 0.56586165\n",
            " 0.66089672 0.65515493 0.70970191 0.66452756 0.69437638 0.69218098\n",
            " 0.63569196 0.65266396 0.63780291 0.72671618 0.71388155 0.74191505\n",
            " 0.75002103 0.77222828 0.83049049 0.81942913 0.82897067 0.81254741\n",
            " 0.78776486 0.75162538 0.78426073 0.77974327 0.81326519 0.81410962\n",
            " 0.79473097 0.83336149 0.85898834 0.83901882 0.85628639 0.87486273\n",
            " 0.88782401 0.90095406 0.92793209 0.94853499 0.93333612 0.91746172\n",
            " 0.92544118 0.91771502 0.94832382 0.94064005 0.96635143 0.95630328\n",
            " 0.964916   0.8776263  0.84780902 0.80029482 0.75131339 0.70867187\n",
            " 0.67559826 0.65501368 0.64670849 0.64876449 0.65830731 0.67201489\n",
            " 0.68672228 0.69920552 0.70692694 0.70823431 0.70257741 0.69051814\n",
            " 0.67353338 0.65368289 0.63322103 0.61422038]\n",
            "21 day output [[0.59786254]]\n",
            "22 day input [0.92172588 0.96474708 0.97572406 0.99159833 0.9697289  0.97614615\n",
            " 0.96795564 1.         0.99016289 0.99050072 0.96538034 0.98488552\n",
            " 0.97086877 0.94025997 0.87748029 0.83483905 0.85413318 0.77336815\n",
            " 0.77269263 0.88014011 0.8400743  0.89673216 0.85527317 0.83884991\n",
            " 0.74233727 0.82327108 0.781432   0.66659625 0.79215567 0.64118044\n",
            " 0.68614369 0.6600101  0.6520307  0.58642236 0.56586165 0.66089672\n",
            " 0.65515493 0.70970191 0.66452756 0.69437638 0.69218098 0.63569196\n",
            " 0.65266396 0.63780291 0.72671618 0.71388155 0.74191505 0.75002103\n",
            " 0.77222828 0.83049049 0.81942913 0.82897067 0.81254741 0.78776486\n",
            " 0.75162538 0.78426073 0.77974327 0.81326519 0.81410962 0.79473097\n",
            " 0.83336149 0.85898834 0.83901882 0.85628639 0.87486273 0.88782401\n",
            " 0.90095406 0.92793209 0.94853499 0.93333612 0.91746172 0.92544118\n",
            " 0.91771502 0.94832382 0.94064005 0.96635143 0.95630328 0.964916\n",
            " 0.8776263  0.84780902 0.80029482 0.75131339 0.70867187 0.67559826\n",
            " 0.65501368 0.64670849 0.64876449 0.65830731 0.67201489 0.68672228\n",
            " 0.69920552 0.70692694 0.70823431 0.70257741 0.69051814 0.67353338\n",
            " 0.65368289 0.63322103 0.61422038 0.59786254]\n",
            "22 day output [[0.5850589]]\n",
            "23 day input [0.96474708 0.97572406 0.99159833 0.9697289  0.97614615 0.96795564\n",
            " 1.         0.99016289 0.99050072 0.96538034 0.98488552 0.97086877\n",
            " 0.94025997 0.87748029 0.83483905 0.85413318 0.77336815 0.77269263\n",
            " 0.88014011 0.8400743  0.89673216 0.85527317 0.83884991 0.74233727\n",
            " 0.82327108 0.781432   0.66659625 0.79215567 0.64118044 0.68614369\n",
            " 0.6600101  0.6520307  0.58642236 0.56586165 0.66089672 0.65515493\n",
            " 0.70970191 0.66452756 0.69437638 0.69218098 0.63569196 0.65266396\n",
            " 0.63780291 0.72671618 0.71388155 0.74191505 0.75002103 0.77222828\n",
            " 0.83049049 0.81942913 0.82897067 0.81254741 0.78776486 0.75162538\n",
            " 0.78426073 0.77974327 0.81326519 0.81410962 0.79473097 0.83336149\n",
            " 0.85898834 0.83901882 0.85628639 0.87486273 0.88782401 0.90095406\n",
            " 0.92793209 0.94853499 0.93333612 0.91746172 0.92544118 0.91771502\n",
            " 0.94832382 0.94064005 0.96635143 0.95630328 0.964916   0.8776263\n",
            " 0.84780902 0.80029482 0.75131339 0.70867187 0.67559826 0.65501368\n",
            " 0.64670849 0.64876449 0.65830731 0.67201489 0.68672228 0.69920552\n",
            " 0.70692694 0.70823431 0.70257741 0.69051814 0.67353338 0.65368289\n",
            " 0.63322103 0.61422038 0.59786254 0.58505893]\n",
            "23 day output [[0.57662195]]\n",
            "24 day input [0.97572406 0.99159833 0.9697289  0.97614615 0.96795564 1.\n",
            " 0.99016289 0.99050072 0.96538034 0.98488552 0.97086877 0.94025997\n",
            " 0.87748029 0.83483905 0.85413318 0.77336815 0.77269263 0.88014011\n",
            " 0.8400743  0.89673216 0.85527317 0.83884991 0.74233727 0.82327108\n",
            " 0.781432   0.66659625 0.79215567 0.64118044 0.68614369 0.6600101\n",
            " 0.6520307  0.58642236 0.56586165 0.66089672 0.65515493 0.70970191\n",
            " 0.66452756 0.69437638 0.69218098 0.63569196 0.65266396 0.63780291\n",
            " 0.72671618 0.71388155 0.74191505 0.75002103 0.77222828 0.83049049\n",
            " 0.81942913 0.82897067 0.81254741 0.78776486 0.75162538 0.78426073\n",
            " 0.77974327 0.81326519 0.81410962 0.79473097 0.83336149 0.85898834\n",
            " 0.83901882 0.85628639 0.87486273 0.88782401 0.90095406 0.92793209\n",
            " 0.94853499 0.93333612 0.91746172 0.92544118 0.91771502 0.94832382\n",
            " 0.94064005 0.96635143 0.95630328 0.964916   0.8776263  0.84780902\n",
            " 0.80029482 0.75131339 0.70867187 0.67559826 0.65501368 0.64670849\n",
            " 0.64876449 0.65830731 0.67201489 0.68672228 0.69920552 0.70692694\n",
            " 0.70823431 0.70257741 0.69051814 0.67353338 0.65368289 0.63322103\n",
            " 0.61422038 0.59786254 0.58505893 0.57662195]\n",
            "24 day output [[0.57225055]]\n",
            "25 day input [0.99159833 0.9697289  0.97614615 0.96795564 1.         0.99016289\n",
            " 0.99050072 0.96538034 0.98488552 0.97086877 0.94025997 0.87748029\n",
            " 0.83483905 0.85413318 0.77336815 0.77269263 0.88014011 0.8400743\n",
            " 0.89673216 0.85527317 0.83884991 0.74233727 0.82327108 0.781432\n",
            " 0.66659625 0.79215567 0.64118044 0.68614369 0.6600101  0.6520307\n",
            " 0.58642236 0.56586165 0.66089672 0.65515493 0.70970191 0.66452756\n",
            " 0.69437638 0.69218098 0.63569196 0.65266396 0.63780291 0.72671618\n",
            " 0.71388155 0.74191505 0.75002103 0.77222828 0.83049049 0.81942913\n",
            " 0.82897067 0.81254741 0.78776486 0.75162538 0.78426073 0.77974327\n",
            " 0.81326519 0.81410962 0.79473097 0.83336149 0.85898834 0.83901882\n",
            " 0.85628639 0.87486273 0.88782401 0.90095406 0.92793209 0.94853499\n",
            " 0.93333612 0.91746172 0.92544118 0.91771502 0.94832382 0.94064005\n",
            " 0.96635143 0.95630328 0.964916   0.8776263  0.84780902 0.80029482\n",
            " 0.75131339 0.70867187 0.67559826 0.65501368 0.64670849 0.64876449\n",
            " 0.65830731 0.67201489 0.68672228 0.69920552 0.70692694 0.70823431\n",
            " 0.70257741 0.69051814 0.67353338 0.65368289 0.63322103 0.61422038\n",
            " 0.59786254 0.58505893 0.57662195 0.57225055]\n",
            "25 day output [[0.57105374]]\n",
            "26 day input [0.9697289  0.97614615 0.96795564 1.         0.99016289 0.99050072\n",
            " 0.96538034 0.98488552 0.97086877 0.94025997 0.87748029 0.83483905\n",
            " 0.85413318 0.77336815 0.77269263 0.88014011 0.8400743  0.89673216\n",
            " 0.85527317 0.83884991 0.74233727 0.82327108 0.781432   0.66659625\n",
            " 0.79215567 0.64118044 0.68614369 0.6600101  0.6520307  0.58642236\n",
            " 0.56586165 0.66089672 0.65515493 0.70970191 0.66452756 0.69437638\n",
            " 0.69218098 0.63569196 0.65266396 0.63780291 0.72671618 0.71388155\n",
            " 0.74191505 0.75002103 0.77222828 0.83049049 0.81942913 0.82897067\n",
            " 0.81254741 0.78776486 0.75162538 0.78426073 0.77974327 0.81326519\n",
            " 0.81410962 0.79473097 0.83336149 0.85898834 0.83901882 0.85628639\n",
            " 0.87486273 0.88782401 0.90095406 0.92793209 0.94853499 0.93333612\n",
            " 0.91746172 0.92544118 0.91771502 0.94832382 0.94064005 0.96635143\n",
            " 0.95630328 0.964916   0.8776263  0.84780902 0.80029482 0.75131339\n",
            " 0.70867187 0.67559826 0.65501368 0.64670849 0.64876449 0.65830731\n",
            " 0.67201489 0.68672228 0.69920552 0.70692694 0.70823431 0.70257741\n",
            " 0.69051814 0.67353338 0.65368289 0.63322103 0.61422038 0.59786254\n",
            " 0.58505893 0.57662195 0.57225055 0.57105374]\n",
            "26 day output [[0.5721031]]\n",
            "27 day input [0.97614615 0.96795564 1.         0.99016289 0.99050072 0.96538034\n",
            " 0.98488552 0.97086877 0.94025997 0.87748029 0.83483905 0.85413318\n",
            " 0.77336815 0.77269263 0.88014011 0.8400743  0.89673216 0.85527317\n",
            " 0.83884991 0.74233727 0.82327108 0.781432   0.66659625 0.79215567\n",
            " 0.64118044 0.68614369 0.6600101  0.6520307  0.58642236 0.56586165\n",
            " 0.66089672 0.65515493 0.70970191 0.66452756 0.69437638 0.69218098\n",
            " 0.63569196 0.65266396 0.63780291 0.72671618 0.71388155 0.74191505\n",
            " 0.75002103 0.77222828 0.83049049 0.81942913 0.82897067 0.81254741\n",
            " 0.78776486 0.75162538 0.78426073 0.77974327 0.81326519 0.81410962\n",
            " 0.79473097 0.83336149 0.85898834 0.83901882 0.85628639 0.87486273\n",
            " 0.88782401 0.90095406 0.92793209 0.94853499 0.93333612 0.91746172\n",
            " 0.92544118 0.91771502 0.94832382 0.94064005 0.96635143 0.95630328\n",
            " 0.964916   0.8776263  0.84780902 0.80029482 0.75131339 0.70867187\n",
            " 0.67559826 0.65501368 0.64670849 0.64876449 0.65830731 0.67201489\n",
            " 0.68672228 0.69920552 0.70692694 0.70823431 0.70257741 0.69051814\n",
            " 0.67353338 0.65368289 0.63322103 0.61422038 0.59786254 0.58505893\n",
            " 0.57662195 0.57225055 0.57105374 0.57210308]\n",
            "27 day output [[0.57440495]]\n",
            "28 day input [0.96795564 1.         0.99016289 0.99050072 0.96538034 0.98488552\n",
            " 0.97086877 0.94025997 0.87748029 0.83483905 0.85413318 0.77336815\n",
            " 0.77269263 0.88014011 0.8400743  0.89673216 0.85527317 0.83884991\n",
            " 0.74233727 0.82327108 0.781432   0.66659625 0.79215567 0.64118044\n",
            " 0.68614369 0.6600101  0.6520307  0.58642236 0.56586165 0.66089672\n",
            " 0.65515493 0.70970191 0.66452756 0.69437638 0.69218098 0.63569196\n",
            " 0.65266396 0.63780291 0.72671618 0.71388155 0.74191505 0.75002103\n",
            " 0.77222828 0.83049049 0.81942913 0.82897067 0.81254741 0.78776486\n",
            " 0.75162538 0.78426073 0.77974327 0.81326519 0.81410962 0.79473097\n",
            " 0.83336149 0.85898834 0.83901882 0.85628639 0.87486273 0.88782401\n",
            " 0.90095406 0.92793209 0.94853499 0.93333612 0.91746172 0.92544118\n",
            " 0.91771502 0.94832382 0.94064005 0.96635143 0.95630328 0.964916\n",
            " 0.8776263  0.84780902 0.80029482 0.75131339 0.70867187 0.67559826\n",
            " 0.65501368 0.64670849 0.64876449 0.65830731 0.67201489 0.68672228\n",
            " 0.69920552 0.70692694 0.70823431 0.70257741 0.69051814 0.67353338\n",
            " 0.65368289 0.63322103 0.61422038 0.59786254 0.58505893 0.57662195\n",
            " 0.57225055 0.57105374 0.57210308 0.57440495]\n",
            "28 day output [[0.5769688]]\n",
            "29 day input [1.         0.99016289 0.99050072 0.96538034 0.98488552 0.97086877\n",
            " 0.94025997 0.87748029 0.83483905 0.85413318 0.77336815 0.77269263\n",
            " 0.88014011 0.8400743  0.89673216 0.85527317 0.83884991 0.74233727\n",
            " 0.82327108 0.781432   0.66659625 0.79215567 0.64118044 0.68614369\n",
            " 0.6600101  0.6520307  0.58642236 0.56586165 0.66089672 0.65515493\n",
            " 0.70970191 0.66452756 0.69437638 0.69218098 0.63569196 0.65266396\n",
            " 0.63780291 0.72671618 0.71388155 0.74191505 0.75002103 0.77222828\n",
            " 0.83049049 0.81942913 0.82897067 0.81254741 0.78776486 0.75162538\n",
            " 0.78426073 0.77974327 0.81326519 0.81410962 0.79473097 0.83336149\n",
            " 0.85898834 0.83901882 0.85628639 0.87486273 0.88782401 0.90095406\n",
            " 0.92793209 0.94853499 0.93333612 0.91746172 0.92544118 0.91771502\n",
            " 0.94832382 0.94064005 0.96635143 0.95630328 0.964916   0.8776263\n",
            " 0.84780902 0.80029482 0.75131339 0.70867187 0.67559826 0.65501368\n",
            " 0.64670849 0.64876449 0.65830731 0.67201489 0.68672228 0.69920552\n",
            " 0.70692694 0.70823431 0.70257741 0.69051814 0.67353338 0.65368289\n",
            " 0.63322103 0.61422038 0.59786254 0.58505893 0.57662195 0.57225055\n",
            " 0.57105374 0.57210308 0.57440495 0.57696879]\n",
            "29 day output [[0.57890034]]\n",
            "[[0.8776262998580933], [0.8478090167045593], [0.800294816493988], [0.7513133883476257], [0.7086718678474426], [0.6755982637405396], [0.6550136804580688], [0.6467084884643555], [0.6487644910812378], [0.6583073139190674], [0.6720148921012878], [0.6867222785949707], [0.6992055177688599], [0.7069269418716431], [0.7082343101501465], [0.7025774121284485], [0.6905181407928467], [0.6735333800315857], [0.6536828875541687], [0.6332210302352905], [0.614220380783081], [0.5978625416755676], [0.5850589275360107], [0.576621949672699], [0.5722505450248718], [0.5710537433624268], [0.5721030831336975], [0.5744049549102783], [0.576968789100647], [0.5789003372192383]]\n"
          ]
        }
      ],
      "source": [
        "lst_output=[]\n",
        "# i have changes n_steps from 100 to x_input.shape\n",
        "n_steps= time_stamp\n",
        "nextNumberOfDays = 30\n",
        "i=0\n",
        "\n",
        "while(i<nextNumberOfDays):\n",
        "    \n",
        "    if(len(temp_input)>100):\n",
        "        x_input=np.array(temp_input[1:])\n",
        "        print(\"{} day input {}\".format(i,x_input))\n",
        "        x_input=x_input.reshape(1,-1)\n",
        "        x_input = x_input.reshape((1, n_steps, 1))\n",
        "        yhat = model.predict(x_input, verbose=0)\n",
        "        print(\"{} day output {}\".format(i,yhat))\n",
        "        temp_input.extend(yhat[0].tolist())\n",
        "        temp_input=temp_input[1:]\n",
        "        lst_output.extend(yhat.tolist())\n",
        "        i=i+1\n",
        "    else:\n",
        "        x_input = x_input.reshape((1, n_steps,1))\n",
        "        yhat = model.predict(x_input, verbose=0)\n",
        "        print(yhat[0])\n",
        "        temp_input.extend(yhat[0].tolist())\n",
        "        print(len(temp_input))\n",
        "        lst_output.extend(yhat.tolist())\n",
        "        i=i+1\n",
        "    \n",
        "\n",
        "print(lst_output)"
      ]
    },
    {
      "cell_type": "code",
      "execution_count": 91,
      "metadata": {
        "id": "DGR92Urvj1ti"
      },
      "outputs": [],
      "source": [
        "day_new = np.arange(1,time_stamp+1)\n",
        "#30 days we will predict\n",
        "day_pred = np.arange(time_stamp+1,(time_stamp+31))"
      ]
    },
    {
      "cell_type": "code",
      "source": [
        "len(df_close)"
      ],
      "metadata": {
        "id": "7S3m4x4J-q4l",
        "colab": {
          "base_uri": "https://localhost:8080/"
        },
        "outputId": "03baa0ef-1603-4eea-dfb5-bab23d4d2f51"
      },
      "execution_count": 92,
      "outputs": [
        {
          "output_type": "execute_result",
          "data": {
            "text/plain": [
              "1258"
            ]
          },
          "metadata": {},
          "execution_count": 92
        }
      ]
    },
    {
      "cell_type": "code",
      "execution_count": 93,
      "metadata": {
        "id": "FuZqGDCUj1ti",
        "colab": {
          "base_uri": "https://localhost:8080/",
          "height": 282
        },
        "outputId": "6f6074c0-ce87-445e-d9ab-515f032da929"
      },
      "outputs": [
        {
          "output_type": "execute_result",
          "data": {
            "text/plain": [
              "[<matplotlib.lines.Line2D at 0x7f63ee9a4210>]"
            ]
          },
          "metadata": {},
          "execution_count": 93
        },
        {
          "output_type": "display_data",
          "data": {
            "text/plain": [
              "<Figure size 432x288 with 1 Axes>"
            ],
            "image/png": "[encoded data removed]"
          },
          "metadata": {
            "needs_background": "light"
          }
        }
      ],
      "source": [
        "df3 = df_close.tolist()\n",
        "df3.extend(lst_output)\n",
        "plt.plot(df3)"
      ]
    },
    {
      "cell_type": "code",
      "execution_count": 94,
      "metadata": {
        "id": "Y2qR3P6Qj1ti",
        "colab": {
          "base_uri": "https://localhost:8080/"
        },
        "outputId": "fb3e451e-f15a-44f8-89fe-d8e9198cd12a"
      },
      "outputs": [
        {
          "output_type": "execute_result",
          "data": {
            "text/plain": [
              "[[0.8776262998580933],\n",
              " [0.8478090167045593],\n",
              " [0.800294816493988],\n",
              " [0.7513133883476257],\n",
              " [0.7086718678474426],\n",
              " [0.6755982637405396],\n",
              " [0.6550136804580688],\n",
              " [0.6467084884643555],\n",
              " [0.6487644910812378],\n",
              " [0.6583073139190674],\n",
              " [0.6720148921012878],\n",
              " [0.6867222785949707],\n",
              " [0.6992055177688599],\n",
              " [0.7069269418716431],\n",
              " [0.7082343101501465],\n",
              " [0.7025774121284485],\n",
              " [0.6905181407928467],\n",
              " [0.6735333800315857],\n",
              " [0.6536828875541687],\n",
              " [0.6332210302352905],\n",
              " [0.614220380783081],\n",
              " [0.5978625416755676],\n",
              " [0.5850589275360107],\n",
              " [0.576621949672699],\n",
              " [0.5722505450248718],\n",
              " [0.5710537433624268],\n",
              " [0.5721030831336975],\n",
              " [0.5744049549102783],\n",
              " [0.576968789100647],\n",
              " [0.5789003372192383]]"
            ]
          },
          "metadata": {},
          "execution_count": 94
        }
      ],
      "source": [
        "lst_output"
      ]
    },
    {
      "cell_type": "code",
      "execution_count": 95,
      "metadata": {
        "id": "bQvbUhMfj1ti",
        "colab": {
          "base_uri": "https://localhost:8080/",
          "height": 282
        },
        "outputId": "d2d441af-569d-4cb9-ebbb-4bff0f84ac9b"
      },
      "outputs": [
        {
          "output_type": "execute_result",
          "data": {
            "text/plain": [
              "[<matplotlib.lines.Line2D at 0x7f63eeacded0>]"
            ]
          },
          "metadata": {},
          "execution_count": 95
        },
        {
          "output_type": "display_data",
          "data": {
            "text/plain": [
              "<Figure size 432x288 with 1 Axes>"
            ],
            "image/png": "[encoded data removed]"
          },
          "metadata": {
            "needs_background": "light"
          }
        }
      ],
      "source": [
        "# this will plot read data\n",
        "plt.plot(day_new, scaler.inverse_transform(df_close[(len(df_close)-time_stamp):]))\n",
        "# this will plot predict data\n",
        "plt.plot(day_pred, scaler.inverse_transform(lst_output))"
      ]
    },
    {
      "cell_type": "code",
      "execution_count": 95,
      "metadata": {
        "id": "FbrdQ4LCj1ti"
      },
      "outputs": [],
      "source": [
        ""
      ]
    }
  ],
  "metadata": {
    "kernelspec": {
      "display_name": "Python 3",
      "language": "python",
      "name": "python3"
    },
    "language_info": {
      "codemirror_mode": {
        "name": "ipython",
        "version": 3
      },
      "file_extension": ".py",
      "mimetype": "text/x-python",
      "name": "python",
      "nbconvert_exporter": "python",
      "pygments_lexer": "ipython3",
      "version": "3.6.5"
    },
    "colab": {
      "name": "Stock Market Prediction and Forecasting Using Stacked LSTM.ipynb",
      "provenance": [],
      "collapsed_sections": []
    }
  },
  "nbformat": 4,
  "nbformat_minor": 0
}